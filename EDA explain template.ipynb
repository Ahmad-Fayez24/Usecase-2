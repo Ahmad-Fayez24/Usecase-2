{
 "cells": [
  {
   "cell_type": "code",
   "execution_count": 3,
   "id": "e69c4ba1-85f3-4a02-ae37-c64347a01803",
   "metadata": {},
   "outputs": [],
   "source": [
    "#Import all relevant libraries\n",
    "import numpy as np\n",
    "import pandas as pd\n",
    "import matplotlib.pyplot as plt\n",
    "import seaborn as sns\n",
    "from scipy.stats import zscore\n",
    " \n",
    "## This statement allows the visuals to render within your Jupyter Notebook.\n",
    "%matplotlib inline"
   ]
  },
  {
   "cell_type": "markdown",
   "id": "e395e8bf-b530-4720-8d0f-26811e927d6e",
   "metadata": {},
   "source": [
    "## Loading the data\n",
    "We can now load the dataset into pandas using the read_csv() function. This converts the CSV file into a Pandas dataframe."
   ]
  },
  {
   "cell_type": "code",
   "execution_count": 4,
   "id": "cf4030b0-aa7f-4bd7-8e9c-c1b7f4d202d0",
   "metadata": {},
   "outputs": [],
   "source": [
    "df_2015 = pd.read_csv(\"D:/2015.csv\")\n",
    "df_2016 = pd.read_csv(\"D:/2016.csv\")\n",
    "df_2017 = pd.read_csv(\"D:/2017.csv\")\n",
    "df_2018 = pd.read_csv(\"D:/2018.csv\")\n",
    "df_2019 = pd.read_csv(\"D:/2019.csv\")"
   ]
  },
  {
   "cell_type": "markdown",
   "id": "ca5ed983-0f72-43eb-8168-6fafd48c562e",
   "metadata": {},
   "source": [
    "### Viewing the dataframe\n",
    "We can get a quick sense of the size of our dataset by using the shape method. This returns a tuple with the number of rows and columns in the dataset."
   ]
  },
  {
   "cell_type": "code",
   "execution_count": 5,
   "id": "c0dc48e4",
   "metadata": {},
   "outputs": [
    {
     "data": {
      "text/html": [
       "<div>\n",
       "<style scoped>\n",
       "    .dataframe tbody tr th:only-of-type {\n",
       "        vertical-align: middle;\n",
       "    }\n",
       "\n",
       "    .dataframe tbody tr th {\n",
       "        vertical-align: top;\n",
       "    }\n",
       "\n",
       "    .dataframe thead th {\n",
       "        text-align: right;\n",
       "    }\n",
       "</style>\n",
       "<table border=\"1\" class=\"dataframe\">\n",
       "  <thead>\n",
       "    <tr style=\"text-align: right;\">\n",
       "      <th></th>\n",
       "      <th>Country</th>\n",
       "      <th>Region</th>\n",
       "      <th>Happiness Rank</th>\n",
       "      <th>Happiness Score</th>\n",
       "      <th>Standard Error</th>\n",
       "      <th>Economy (GDP per Capita)</th>\n",
       "      <th>Family</th>\n",
       "      <th>Health (Life Expectancy)</th>\n",
       "      <th>Freedom</th>\n",
       "      <th>Trust (Government Corruption)</th>\n",
       "      <th>Generosity</th>\n",
       "      <th>Dystopia Residual</th>\n",
       "    </tr>\n",
       "  </thead>\n",
       "  <tbody>\n",
       "    <tr>\n",
       "      <th>0</th>\n",
       "      <td>Switzerland</td>\n",
       "      <td>Western Europe</td>\n",
       "      <td>1</td>\n",
       "      <td>7.587</td>\n",
       "      <td>0.03411</td>\n",
       "      <td>1.39651</td>\n",
       "      <td>1.34951</td>\n",
       "      <td>0.94143</td>\n",
       "      <td>0.66557</td>\n",
       "      <td>0.41978</td>\n",
       "      <td>0.29678</td>\n",
       "      <td>2.51738</td>\n",
       "    </tr>\n",
       "    <tr>\n",
       "      <th>1</th>\n",
       "      <td>Iceland</td>\n",
       "      <td>Western Europe</td>\n",
       "      <td>2</td>\n",
       "      <td>7.561</td>\n",
       "      <td>0.04884</td>\n",
       "      <td>1.30232</td>\n",
       "      <td>1.40223</td>\n",
       "      <td>0.94784</td>\n",
       "      <td>0.62877</td>\n",
       "      <td>0.14145</td>\n",
       "      <td>0.43630</td>\n",
       "      <td>2.70201</td>\n",
       "    </tr>\n",
       "    <tr>\n",
       "      <th>2</th>\n",
       "      <td>Denmark</td>\n",
       "      <td>Western Europe</td>\n",
       "      <td>3</td>\n",
       "      <td>7.527</td>\n",
       "      <td>0.03328</td>\n",
       "      <td>1.32548</td>\n",
       "      <td>1.36058</td>\n",
       "      <td>0.87464</td>\n",
       "      <td>0.64938</td>\n",
       "      <td>0.48357</td>\n",
       "      <td>0.34139</td>\n",
       "      <td>2.49204</td>\n",
       "    </tr>\n",
       "    <tr>\n",
       "      <th>3</th>\n",
       "      <td>Norway</td>\n",
       "      <td>Western Europe</td>\n",
       "      <td>4</td>\n",
       "      <td>7.522</td>\n",
       "      <td>0.03880</td>\n",
       "      <td>1.45900</td>\n",
       "      <td>1.33095</td>\n",
       "      <td>0.88521</td>\n",
       "      <td>0.66973</td>\n",
       "      <td>0.36503</td>\n",
       "      <td>0.34699</td>\n",
       "      <td>2.46531</td>\n",
       "    </tr>\n",
       "    <tr>\n",
       "      <th>4</th>\n",
       "      <td>Canada</td>\n",
       "      <td>North America</td>\n",
       "      <td>5</td>\n",
       "      <td>7.427</td>\n",
       "      <td>0.03553</td>\n",
       "      <td>1.32629</td>\n",
       "      <td>1.32261</td>\n",
       "      <td>0.90563</td>\n",
       "      <td>0.63297</td>\n",
       "      <td>0.32957</td>\n",
       "      <td>0.45811</td>\n",
       "      <td>2.45176</td>\n",
       "    </tr>\n",
       "  </tbody>\n",
       "</table>\n",
       "</div>"
      ],
      "text/plain": [
       "       Country          Region  Happiness Rank  Happiness Score  \\\n",
       "0  Switzerland  Western Europe               1            7.587   \n",
       "1      Iceland  Western Europe               2            7.561   \n",
       "2      Denmark  Western Europe               3            7.527   \n",
       "3       Norway  Western Europe               4            7.522   \n",
       "4       Canada   North America               5            7.427   \n",
       "\n",
       "   Standard Error  Economy (GDP per Capita)   Family  \\\n",
       "0         0.03411                   1.39651  1.34951   \n",
       "1         0.04884                   1.30232  1.40223   \n",
       "2         0.03328                   1.32548  1.36058   \n",
       "3         0.03880                   1.45900  1.33095   \n",
       "4         0.03553                   1.32629  1.32261   \n",
       "\n",
       "   Health (Life Expectancy)  Freedom  Trust (Government Corruption)  \\\n",
       "0                   0.94143  0.66557                        0.41978   \n",
       "1                   0.94784  0.62877                        0.14145   \n",
       "2                   0.87464  0.64938                        0.48357   \n",
       "3                   0.88521  0.66973                        0.36503   \n",
       "4                   0.90563  0.63297                        0.32957   \n",
       "\n",
       "   Generosity  Dystopia Residual  \n",
       "0     0.29678            2.51738  \n",
       "1     0.43630            2.70201  \n",
       "2     0.34139            2.49204  \n",
       "3     0.34699            2.46531  \n",
       "4     0.45811            2.45176  "
      ]
     },
     "execution_count": 5,
     "metadata": {},
     "output_type": "execute_result"
    }
   ],
   "source": [
    "df_2015.head()"
   ]
  },
  {
   "cell_type": "code",
   "execution_count": 42,
   "id": "42e9ee82",
   "metadata": {},
   "outputs": [
    {
     "data": {
      "text/html": [
       "<div>\n",
       "<style scoped>\n",
       "    .dataframe tbody tr th:only-of-type {\n",
       "        vertical-align: middle;\n",
       "    }\n",
       "\n",
       "    .dataframe tbody tr th {\n",
       "        vertical-align: top;\n",
       "    }\n",
       "\n",
       "    .dataframe thead th {\n",
       "        text-align: right;\n",
       "    }\n",
       "</style>\n",
       "<table border=\"1\" class=\"dataframe\">\n",
       "  <thead>\n",
       "    <tr style=\"text-align: right;\">\n",
       "      <th></th>\n",
       "      <th>Country</th>\n",
       "      <th>Region</th>\n",
       "      <th>Happiness Rank</th>\n",
       "      <th>Happiness Score</th>\n",
       "      <th>Lower Confidence Interval</th>\n",
       "      <th>Upper Confidence Interval</th>\n",
       "      <th>Economy (GDP per Capita)</th>\n",
       "      <th>Family</th>\n",
       "      <th>Health (Life Expectancy)</th>\n",
       "      <th>Freedom</th>\n",
       "      <th>Trust (Government Corruption)</th>\n",
       "      <th>Generosity</th>\n",
       "      <th>Dystopia Residual</th>\n",
       "    </tr>\n",
       "  </thead>\n",
       "  <tbody>\n",
       "    <tr>\n",
       "      <th>0</th>\n",
       "      <td>Denmark</td>\n",
       "      <td>Western Europe</td>\n",
       "      <td>1</td>\n",
       "      <td>7.526</td>\n",
       "      <td>7.460</td>\n",
       "      <td>7.592</td>\n",
       "      <td>1.44178</td>\n",
       "      <td>1.16374</td>\n",
       "      <td>0.79504</td>\n",
       "      <td>0.57941</td>\n",
       "      <td>0.44453</td>\n",
       "      <td>0.36171</td>\n",
       "      <td>2.73939</td>\n",
       "    </tr>\n",
       "    <tr>\n",
       "      <th>1</th>\n",
       "      <td>Switzerland</td>\n",
       "      <td>Western Europe</td>\n",
       "      <td>2</td>\n",
       "      <td>7.509</td>\n",
       "      <td>7.428</td>\n",
       "      <td>7.590</td>\n",
       "      <td>1.52733</td>\n",
       "      <td>1.14524</td>\n",
       "      <td>0.86303</td>\n",
       "      <td>0.58557</td>\n",
       "      <td>0.41203</td>\n",
       "      <td>0.28083</td>\n",
       "      <td>2.69463</td>\n",
       "    </tr>\n",
       "    <tr>\n",
       "      <th>2</th>\n",
       "      <td>Iceland</td>\n",
       "      <td>Western Europe</td>\n",
       "      <td>3</td>\n",
       "      <td>7.501</td>\n",
       "      <td>7.333</td>\n",
       "      <td>7.669</td>\n",
       "      <td>1.42666</td>\n",
       "      <td>1.18326</td>\n",
       "      <td>0.86733</td>\n",
       "      <td>0.56624</td>\n",
       "      <td>0.14975</td>\n",
       "      <td>0.47678</td>\n",
       "      <td>2.83137</td>\n",
       "    </tr>\n",
       "    <tr>\n",
       "      <th>3</th>\n",
       "      <td>Norway</td>\n",
       "      <td>Western Europe</td>\n",
       "      <td>4</td>\n",
       "      <td>7.498</td>\n",
       "      <td>7.421</td>\n",
       "      <td>7.575</td>\n",
       "      <td>1.57744</td>\n",
       "      <td>1.12690</td>\n",
       "      <td>0.79579</td>\n",
       "      <td>0.59609</td>\n",
       "      <td>0.35776</td>\n",
       "      <td>0.37895</td>\n",
       "      <td>2.66465</td>\n",
       "    </tr>\n",
       "    <tr>\n",
       "      <th>4</th>\n",
       "      <td>Finland</td>\n",
       "      <td>Western Europe</td>\n",
       "      <td>5</td>\n",
       "      <td>7.413</td>\n",
       "      <td>7.351</td>\n",
       "      <td>7.475</td>\n",
       "      <td>1.40598</td>\n",
       "      <td>1.13464</td>\n",
       "      <td>0.81091</td>\n",
       "      <td>0.57104</td>\n",
       "      <td>0.41004</td>\n",
       "      <td>0.25492</td>\n",
       "      <td>2.82596</td>\n",
       "    </tr>\n",
       "  </tbody>\n",
       "</table>\n",
       "</div>"
      ],
      "text/plain": [
       "       Country          Region  Happiness Rank  Happiness Score  \\\n",
       "0      Denmark  Western Europe               1            7.526   \n",
       "1  Switzerland  Western Europe               2            7.509   \n",
       "2      Iceland  Western Europe               3            7.501   \n",
       "3       Norway  Western Europe               4            7.498   \n",
       "4      Finland  Western Europe               5            7.413   \n",
       "\n",
       "   Lower Confidence Interval  Upper Confidence Interval  \\\n",
       "0                      7.460                      7.592   \n",
       "1                      7.428                      7.590   \n",
       "2                      7.333                      7.669   \n",
       "3                      7.421                      7.575   \n",
       "4                      7.351                      7.475   \n",
       "\n",
       "   Economy (GDP per Capita)   Family  Health (Life Expectancy)  Freedom  \\\n",
       "0                   1.44178  1.16374                   0.79504  0.57941   \n",
       "1                   1.52733  1.14524                   0.86303  0.58557   \n",
       "2                   1.42666  1.18326                   0.86733  0.56624   \n",
       "3                   1.57744  1.12690                   0.79579  0.59609   \n",
       "4                   1.40598  1.13464                   0.81091  0.57104   \n",
       "\n",
       "   Trust (Government Corruption)  Generosity  Dystopia Residual  \n",
       "0                        0.44453     0.36171            2.73939  \n",
       "1                        0.41203     0.28083            2.69463  \n",
       "2                        0.14975     0.47678            2.83137  \n",
       "3                        0.35776     0.37895            2.66465  \n",
       "4                        0.41004     0.25492            2.82596  "
      ]
     },
     "execution_count": 42,
     "metadata": {},
     "output_type": "execute_result"
    }
   ],
   "source": [
    "df_2016.head()"
   ]
  },
  {
   "cell_type": "code",
   "execution_count": 43,
   "id": "ee7fa94a",
   "metadata": {},
   "outputs": [
    {
     "data": {
      "text/html": [
       "<div>\n",
       "<style scoped>\n",
       "    .dataframe tbody tr th:only-of-type {\n",
       "        vertical-align: middle;\n",
       "    }\n",
       "\n",
       "    .dataframe tbody tr th {\n",
       "        vertical-align: top;\n",
       "    }\n",
       "\n",
       "    .dataframe thead th {\n",
       "        text-align: right;\n",
       "    }\n",
       "</style>\n",
       "<table border=\"1\" class=\"dataframe\">\n",
       "  <thead>\n",
       "    <tr style=\"text-align: right;\">\n",
       "      <th></th>\n",
       "      <th>Country</th>\n",
       "      <th>Happiness.Rank</th>\n",
       "      <th>Happiness.Score</th>\n",
       "      <th>Whisker.high</th>\n",
       "      <th>Whisker.low</th>\n",
       "      <th>Economy..GDP.per.Capita.</th>\n",
       "      <th>Family</th>\n",
       "      <th>Health..Life.Expectancy.</th>\n",
       "      <th>Freedom</th>\n",
       "      <th>Generosity</th>\n",
       "      <th>Trust..Government.Corruption.</th>\n",
       "      <th>Dystopia.Residual</th>\n",
       "    </tr>\n",
       "  </thead>\n",
       "  <tbody>\n",
       "    <tr>\n",
       "      <th>0</th>\n",
       "      <td>Norway</td>\n",
       "      <td>1</td>\n",
       "      <td>7.537</td>\n",
       "      <td>7.594445</td>\n",
       "      <td>7.479556</td>\n",
       "      <td>1.616463</td>\n",
       "      <td>1.533524</td>\n",
       "      <td>0.796667</td>\n",
       "      <td>0.635423</td>\n",
       "      <td>0.362012</td>\n",
       "      <td>0.315964</td>\n",
       "      <td>2.277027</td>\n",
       "    </tr>\n",
       "    <tr>\n",
       "      <th>1</th>\n",
       "      <td>Denmark</td>\n",
       "      <td>2</td>\n",
       "      <td>7.522</td>\n",
       "      <td>7.581728</td>\n",
       "      <td>7.462272</td>\n",
       "      <td>1.482383</td>\n",
       "      <td>1.551122</td>\n",
       "      <td>0.792566</td>\n",
       "      <td>0.626007</td>\n",
       "      <td>0.355280</td>\n",
       "      <td>0.400770</td>\n",
       "      <td>2.313707</td>\n",
       "    </tr>\n",
       "    <tr>\n",
       "      <th>2</th>\n",
       "      <td>Iceland</td>\n",
       "      <td>3</td>\n",
       "      <td>7.504</td>\n",
       "      <td>7.622030</td>\n",
       "      <td>7.385970</td>\n",
       "      <td>1.480633</td>\n",
       "      <td>1.610574</td>\n",
       "      <td>0.833552</td>\n",
       "      <td>0.627163</td>\n",
       "      <td>0.475540</td>\n",
       "      <td>0.153527</td>\n",
       "      <td>2.322715</td>\n",
       "    </tr>\n",
       "    <tr>\n",
       "      <th>3</th>\n",
       "      <td>Switzerland</td>\n",
       "      <td>4</td>\n",
       "      <td>7.494</td>\n",
       "      <td>7.561772</td>\n",
       "      <td>7.426227</td>\n",
       "      <td>1.564980</td>\n",
       "      <td>1.516912</td>\n",
       "      <td>0.858131</td>\n",
       "      <td>0.620071</td>\n",
       "      <td>0.290549</td>\n",
       "      <td>0.367007</td>\n",
       "      <td>2.276716</td>\n",
       "    </tr>\n",
       "    <tr>\n",
       "      <th>4</th>\n",
       "      <td>Finland</td>\n",
       "      <td>5</td>\n",
       "      <td>7.469</td>\n",
       "      <td>7.527542</td>\n",
       "      <td>7.410458</td>\n",
       "      <td>1.443572</td>\n",
       "      <td>1.540247</td>\n",
       "      <td>0.809158</td>\n",
       "      <td>0.617951</td>\n",
       "      <td>0.245483</td>\n",
       "      <td>0.382612</td>\n",
       "      <td>2.430182</td>\n",
       "    </tr>\n",
       "  </tbody>\n",
       "</table>\n",
       "</div>"
      ],
      "text/plain": [
       "       Country  Happiness.Rank  Happiness.Score  Whisker.high  Whisker.low  \\\n",
       "0       Norway               1            7.537      7.594445     7.479556   \n",
       "1      Denmark               2            7.522      7.581728     7.462272   \n",
       "2      Iceland               3            7.504      7.622030     7.385970   \n",
       "3  Switzerland               4            7.494      7.561772     7.426227   \n",
       "4      Finland               5            7.469      7.527542     7.410458   \n",
       "\n",
       "   Economy..GDP.per.Capita.    Family  Health..Life.Expectancy.   Freedom  \\\n",
       "0                  1.616463  1.533524                  0.796667  0.635423   \n",
       "1                  1.482383  1.551122                  0.792566  0.626007   \n",
       "2                  1.480633  1.610574                  0.833552  0.627163   \n",
       "3                  1.564980  1.516912                  0.858131  0.620071   \n",
       "4                  1.443572  1.540247                  0.809158  0.617951   \n",
       "\n",
       "   Generosity  Trust..Government.Corruption.  Dystopia.Residual  \n",
       "0    0.362012                       0.315964           2.277027  \n",
       "1    0.355280                       0.400770           2.313707  \n",
       "2    0.475540                       0.153527           2.322715  \n",
       "3    0.290549                       0.367007           2.276716  \n",
       "4    0.245483                       0.382612           2.430182  "
      ]
     },
     "execution_count": 43,
     "metadata": {},
     "output_type": "execute_result"
    }
   ],
   "source": [
    "df_2017.head()"
   ]
  },
  {
   "cell_type": "code",
   "execution_count": 44,
   "id": "e276988c",
   "metadata": {},
   "outputs": [
    {
     "data": {
      "text/html": [
       "<div>\n",
       "<style scoped>\n",
       "    .dataframe tbody tr th:only-of-type {\n",
       "        vertical-align: middle;\n",
       "    }\n",
       "\n",
       "    .dataframe tbody tr th {\n",
       "        vertical-align: top;\n",
       "    }\n",
       "\n",
       "    .dataframe thead th {\n",
       "        text-align: right;\n",
       "    }\n",
       "</style>\n",
       "<table border=\"1\" class=\"dataframe\">\n",
       "  <thead>\n",
       "    <tr style=\"text-align: right;\">\n",
       "      <th></th>\n",
       "      <th>Overall rank</th>\n",
       "      <th>Country or region</th>\n",
       "      <th>Score</th>\n",
       "      <th>GDP per capita</th>\n",
       "      <th>Social support</th>\n",
       "      <th>Healthy life expectancy</th>\n",
       "      <th>Freedom to make life choices</th>\n",
       "      <th>Generosity</th>\n",
       "      <th>Perceptions of corruption</th>\n",
       "    </tr>\n",
       "  </thead>\n",
       "  <tbody>\n",
       "    <tr>\n",
       "      <th>0</th>\n",
       "      <td>1</td>\n",
       "      <td>Finland</td>\n",
       "      <td>7.632</td>\n",
       "      <td>1.305</td>\n",
       "      <td>1.592</td>\n",
       "      <td>0.874</td>\n",
       "      <td>0.681</td>\n",
       "      <td>0.202</td>\n",
       "      <td>0.393</td>\n",
       "    </tr>\n",
       "    <tr>\n",
       "      <th>1</th>\n",
       "      <td>2</td>\n",
       "      <td>Norway</td>\n",
       "      <td>7.594</td>\n",
       "      <td>1.456</td>\n",
       "      <td>1.582</td>\n",
       "      <td>0.861</td>\n",
       "      <td>0.686</td>\n",
       "      <td>0.286</td>\n",
       "      <td>0.340</td>\n",
       "    </tr>\n",
       "    <tr>\n",
       "      <th>2</th>\n",
       "      <td>3</td>\n",
       "      <td>Denmark</td>\n",
       "      <td>7.555</td>\n",
       "      <td>1.351</td>\n",
       "      <td>1.590</td>\n",
       "      <td>0.868</td>\n",
       "      <td>0.683</td>\n",
       "      <td>0.284</td>\n",
       "      <td>0.408</td>\n",
       "    </tr>\n",
       "    <tr>\n",
       "      <th>3</th>\n",
       "      <td>4</td>\n",
       "      <td>Iceland</td>\n",
       "      <td>7.495</td>\n",
       "      <td>1.343</td>\n",
       "      <td>1.644</td>\n",
       "      <td>0.914</td>\n",
       "      <td>0.677</td>\n",
       "      <td>0.353</td>\n",
       "      <td>0.138</td>\n",
       "    </tr>\n",
       "    <tr>\n",
       "      <th>4</th>\n",
       "      <td>5</td>\n",
       "      <td>Switzerland</td>\n",
       "      <td>7.487</td>\n",
       "      <td>1.420</td>\n",
       "      <td>1.549</td>\n",
       "      <td>0.927</td>\n",
       "      <td>0.660</td>\n",
       "      <td>0.256</td>\n",
       "      <td>0.357</td>\n",
       "    </tr>\n",
       "  </tbody>\n",
       "</table>\n",
       "</div>"
      ],
      "text/plain": [
       "   Overall rank Country or region  Score  GDP per capita  Social support  \\\n",
       "0             1           Finland  7.632           1.305           1.592   \n",
       "1             2            Norway  7.594           1.456           1.582   \n",
       "2             3           Denmark  7.555           1.351           1.590   \n",
       "3             4           Iceland  7.495           1.343           1.644   \n",
       "4             5       Switzerland  7.487           1.420           1.549   \n",
       "\n",
       "   Healthy life expectancy  Freedom to make life choices  Generosity  \\\n",
       "0                    0.874                         0.681       0.202   \n",
       "1                    0.861                         0.686       0.286   \n",
       "2                    0.868                         0.683       0.284   \n",
       "3                    0.914                         0.677       0.353   \n",
       "4                    0.927                         0.660       0.256   \n",
       "\n",
       "   Perceptions of corruption  \n",
       "0                      0.393  \n",
       "1                      0.340  \n",
       "2                      0.408  \n",
       "3                      0.138  \n",
       "4                      0.357  "
      ]
     },
     "execution_count": 44,
     "metadata": {},
     "output_type": "execute_result"
    }
   ],
   "source": [
    "df_2018.head()"
   ]
  },
  {
   "cell_type": "code",
   "execution_count": 45,
   "id": "efb58948",
   "metadata": {},
   "outputs": [
    {
     "data": {
      "text/html": [
       "<div>\n",
       "<style scoped>\n",
       "    .dataframe tbody tr th:only-of-type {\n",
       "        vertical-align: middle;\n",
       "    }\n",
       "\n",
       "    .dataframe tbody tr th {\n",
       "        vertical-align: top;\n",
       "    }\n",
       "\n",
       "    .dataframe thead th {\n",
       "        text-align: right;\n",
       "    }\n",
       "</style>\n",
       "<table border=\"1\" class=\"dataframe\">\n",
       "  <thead>\n",
       "    <tr style=\"text-align: right;\">\n",
       "      <th></th>\n",
       "      <th>Overall rank</th>\n",
       "      <th>Country or region</th>\n",
       "      <th>Score</th>\n",
       "      <th>GDP per capita</th>\n",
       "      <th>Social support</th>\n",
       "      <th>Healthy life expectancy</th>\n",
       "      <th>Freedom to make life choices</th>\n",
       "      <th>Generosity</th>\n",
       "      <th>Perceptions of corruption</th>\n",
       "    </tr>\n",
       "  </thead>\n",
       "  <tbody>\n",
       "    <tr>\n",
       "      <th>0</th>\n",
       "      <td>1</td>\n",
       "      <td>Finland</td>\n",
       "      <td>7.769</td>\n",
       "      <td>1.340</td>\n",
       "      <td>1.587</td>\n",
       "      <td>0.986</td>\n",
       "      <td>0.596</td>\n",
       "      <td>0.153</td>\n",
       "      <td>0.393</td>\n",
       "    </tr>\n",
       "    <tr>\n",
       "      <th>1</th>\n",
       "      <td>2</td>\n",
       "      <td>Denmark</td>\n",
       "      <td>7.600</td>\n",
       "      <td>1.383</td>\n",
       "      <td>1.573</td>\n",
       "      <td>0.996</td>\n",
       "      <td>0.592</td>\n",
       "      <td>0.252</td>\n",
       "      <td>0.410</td>\n",
       "    </tr>\n",
       "    <tr>\n",
       "      <th>2</th>\n",
       "      <td>3</td>\n",
       "      <td>Norway</td>\n",
       "      <td>7.554</td>\n",
       "      <td>1.488</td>\n",
       "      <td>1.582</td>\n",
       "      <td>1.028</td>\n",
       "      <td>0.603</td>\n",
       "      <td>0.271</td>\n",
       "      <td>0.341</td>\n",
       "    </tr>\n",
       "    <tr>\n",
       "      <th>3</th>\n",
       "      <td>4</td>\n",
       "      <td>Iceland</td>\n",
       "      <td>7.494</td>\n",
       "      <td>1.380</td>\n",
       "      <td>1.624</td>\n",
       "      <td>1.026</td>\n",
       "      <td>0.591</td>\n",
       "      <td>0.354</td>\n",
       "      <td>0.118</td>\n",
       "    </tr>\n",
       "    <tr>\n",
       "      <th>4</th>\n",
       "      <td>5</td>\n",
       "      <td>Netherlands</td>\n",
       "      <td>7.488</td>\n",
       "      <td>1.396</td>\n",
       "      <td>1.522</td>\n",
       "      <td>0.999</td>\n",
       "      <td>0.557</td>\n",
       "      <td>0.322</td>\n",
       "      <td>0.298</td>\n",
       "    </tr>\n",
       "  </tbody>\n",
       "</table>\n",
       "</div>"
      ],
      "text/plain": [
       "   Overall rank Country or region  Score  GDP per capita  Social support  \\\n",
       "0             1           Finland  7.769           1.340           1.587   \n",
       "1             2           Denmark  7.600           1.383           1.573   \n",
       "2             3            Norway  7.554           1.488           1.582   \n",
       "3             4           Iceland  7.494           1.380           1.624   \n",
       "4             5       Netherlands  7.488           1.396           1.522   \n",
       "\n",
       "   Healthy life expectancy  Freedom to make life choices  Generosity  \\\n",
       "0                    0.986                         0.596       0.153   \n",
       "1                    0.996                         0.592       0.252   \n",
       "2                    1.028                         0.603       0.271   \n",
       "3                    1.026                         0.591       0.354   \n",
       "4                    0.999                         0.557       0.322   \n",
       "\n",
       "   Perceptions of corruption  \n",
       "0                      0.393  \n",
       "1                      0.410  \n",
       "2                      0.341  \n",
       "3                      0.118  \n",
       "4                      0.298  "
      ]
     },
     "execution_count": 45,
     "metadata": {},
     "output_type": "execute_result"
    }
   ],
   "source": [
    "df_2019.head()"
   ]
  },
  {
   "cell_type": "markdown",
   "id": "bd2b5bc4-db37-4432-b666-0714afd0c4ca",
   "metadata": {},
   "source": [
    "## 1. Data Profiling:\n",
    "Data profiling is a comprehensive process of examining the data available in an existing dataset and collecting statistics and information about that data. "
   ]
  },
  {
   "cell_type": "code",
   "execution_count": 41,
   "id": "672f2081-5a2c-4908-8cbd-29519fb3cac5",
   "metadata": {},
   "outputs": [
    {
     "name": "stdout",
     "output_type": "stream",
     "text": [
      "<class 'pandas.core.frame.DataFrame'>\n",
      "RangeIndex: 158 entries, 0 to 157\n",
      "Data columns (total 12 columns):\n",
      " #   Column                         Non-Null Count  Dtype  \n",
      "---  ------                         --------------  -----  \n",
      " 0   Country                        158 non-null    object \n",
      " 1   Region                         158 non-null    object \n",
      " 2   Happiness Rank                 158 non-null    int64  \n",
      " 3   Happiness Score                158 non-null    float64\n",
      " 4   Standard Error                 158 non-null    float64\n",
      " 5   Economy (GDP per Capita)       158 non-null    float64\n",
      " 6   Family                         158 non-null    float64\n",
      " 7   Health (Life Expectancy)       158 non-null    float64\n",
      " 8   Freedom                        158 non-null    float64\n",
      " 9   Trust (Government Corruption)  158 non-null    float64\n",
      " 10  Generosity                     158 non-null    float64\n",
      " 11  Dystopia Residual              158 non-null    float64\n",
      "dtypes: float64(9), int64(1), object(2)\n",
      "memory usage: 14.9+ KB\n"
     ]
    }
   ],
   "source": [
    "df_2015.info()"
   ]
  },
  {
   "cell_type": "code",
   "execution_count": 7,
   "id": "2c7a7fd1",
   "metadata": {},
   "outputs": [
    {
     "data": {
      "text/plain": [
       "(158, 12)"
      ]
     },
     "execution_count": 7,
     "metadata": {},
     "output_type": "execute_result"
    }
   ],
   "source": [
    "df_2015.shape"
   ]
  },
  {
   "cell_type": "code",
   "execution_count": 8,
   "id": "a0f80902",
   "metadata": {},
   "outputs": [
    {
     "data": {
      "text/html": [
       "<div>\n",
       "<style scoped>\n",
       "    .dataframe tbody tr th:only-of-type {\n",
       "        vertical-align: middle;\n",
       "    }\n",
       "\n",
       "    .dataframe tbody tr th {\n",
       "        vertical-align: top;\n",
       "    }\n",
       "\n",
       "    .dataframe thead th {\n",
       "        text-align: right;\n",
       "    }\n",
       "</style>\n",
       "<table border=\"1\" class=\"dataframe\">\n",
       "  <thead>\n",
       "    <tr style=\"text-align: right;\">\n",
       "      <th></th>\n",
       "      <th>Happiness Rank</th>\n",
       "      <th>Happiness Score</th>\n",
       "      <th>Standard Error</th>\n",
       "      <th>Economy (GDP per Capita)</th>\n",
       "      <th>Family</th>\n",
       "      <th>Health (Life Expectancy)</th>\n",
       "      <th>Freedom</th>\n",
       "      <th>Trust (Government Corruption)</th>\n",
       "      <th>Generosity</th>\n",
       "      <th>Dystopia Residual</th>\n",
       "    </tr>\n",
       "  </thead>\n",
       "  <tbody>\n",
       "    <tr>\n",
       "      <th>count</th>\n",
       "      <td>158.000000</td>\n",
       "      <td>158.000000</td>\n",
       "      <td>158.000000</td>\n",
       "      <td>158.000000</td>\n",
       "      <td>158.000000</td>\n",
       "      <td>158.000000</td>\n",
       "      <td>158.000000</td>\n",
       "      <td>158.000000</td>\n",
       "      <td>158.000000</td>\n",
       "      <td>158.000000</td>\n",
       "    </tr>\n",
       "    <tr>\n",
       "      <th>mean</th>\n",
       "      <td>79.493671</td>\n",
       "      <td>5.375734</td>\n",
       "      <td>0.047885</td>\n",
       "      <td>0.846137</td>\n",
       "      <td>0.991046</td>\n",
       "      <td>0.630259</td>\n",
       "      <td>0.428615</td>\n",
       "      <td>0.143422</td>\n",
       "      <td>0.237296</td>\n",
       "      <td>2.098977</td>\n",
       "    </tr>\n",
       "    <tr>\n",
       "      <th>std</th>\n",
       "      <td>45.754363</td>\n",
       "      <td>1.145010</td>\n",
       "      <td>0.017146</td>\n",
       "      <td>0.403121</td>\n",
       "      <td>0.272369</td>\n",
       "      <td>0.247078</td>\n",
       "      <td>0.150693</td>\n",
       "      <td>0.120034</td>\n",
       "      <td>0.126685</td>\n",
       "      <td>0.553550</td>\n",
       "    </tr>\n",
       "    <tr>\n",
       "      <th>min</th>\n",
       "      <td>1.000000</td>\n",
       "      <td>2.839000</td>\n",
       "      <td>0.018480</td>\n",
       "      <td>0.000000</td>\n",
       "      <td>0.000000</td>\n",
       "      <td>0.000000</td>\n",
       "      <td>0.000000</td>\n",
       "      <td>0.000000</td>\n",
       "      <td>0.000000</td>\n",
       "      <td>0.328580</td>\n",
       "    </tr>\n",
       "    <tr>\n",
       "      <th>25%</th>\n",
       "      <td>40.250000</td>\n",
       "      <td>4.526000</td>\n",
       "      <td>0.037268</td>\n",
       "      <td>0.545808</td>\n",
       "      <td>0.856823</td>\n",
       "      <td>0.439185</td>\n",
       "      <td>0.328330</td>\n",
       "      <td>0.061675</td>\n",
       "      <td>0.150553</td>\n",
       "      <td>1.759410</td>\n",
       "    </tr>\n",
       "    <tr>\n",
       "      <th>50%</th>\n",
       "      <td>79.500000</td>\n",
       "      <td>5.232500</td>\n",
       "      <td>0.043940</td>\n",
       "      <td>0.910245</td>\n",
       "      <td>1.029510</td>\n",
       "      <td>0.696705</td>\n",
       "      <td>0.435515</td>\n",
       "      <td>0.107220</td>\n",
       "      <td>0.216130</td>\n",
       "      <td>2.095415</td>\n",
       "    </tr>\n",
       "    <tr>\n",
       "      <th>75%</th>\n",
       "      <td>118.750000</td>\n",
       "      <td>6.243750</td>\n",
       "      <td>0.052300</td>\n",
       "      <td>1.158448</td>\n",
       "      <td>1.214405</td>\n",
       "      <td>0.811013</td>\n",
       "      <td>0.549092</td>\n",
       "      <td>0.180255</td>\n",
       "      <td>0.309883</td>\n",
       "      <td>2.462415</td>\n",
       "    </tr>\n",
       "    <tr>\n",
       "      <th>max</th>\n",
       "      <td>158.000000</td>\n",
       "      <td>7.587000</td>\n",
       "      <td>0.136930</td>\n",
       "      <td>1.690420</td>\n",
       "      <td>1.402230</td>\n",
       "      <td>1.025250</td>\n",
       "      <td>0.669730</td>\n",
       "      <td>0.551910</td>\n",
       "      <td>0.795880</td>\n",
       "      <td>3.602140</td>\n",
       "    </tr>\n",
       "  </tbody>\n",
       "</table>\n",
       "</div>"
      ],
      "text/plain": [
       "       Happiness Rank  Happiness Score  Standard Error  \\\n",
       "count      158.000000       158.000000      158.000000   \n",
       "mean        79.493671         5.375734        0.047885   \n",
       "std         45.754363         1.145010        0.017146   \n",
       "min          1.000000         2.839000        0.018480   \n",
       "25%         40.250000         4.526000        0.037268   \n",
       "50%         79.500000         5.232500        0.043940   \n",
       "75%        118.750000         6.243750        0.052300   \n",
       "max        158.000000         7.587000        0.136930   \n",
       "\n",
       "       Economy (GDP per Capita)      Family  Health (Life Expectancy)  \\\n",
       "count                158.000000  158.000000                158.000000   \n",
       "mean                   0.846137    0.991046                  0.630259   \n",
       "std                    0.403121    0.272369                  0.247078   \n",
       "min                    0.000000    0.000000                  0.000000   \n",
       "25%                    0.545808    0.856823                  0.439185   \n",
       "50%                    0.910245    1.029510                  0.696705   \n",
       "75%                    1.158448    1.214405                  0.811013   \n",
       "max                    1.690420    1.402230                  1.025250   \n",
       "\n",
       "          Freedom  Trust (Government Corruption)  Generosity  \\\n",
       "count  158.000000                     158.000000  158.000000   \n",
       "mean     0.428615                       0.143422    0.237296   \n",
       "std      0.150693                       0.120034    0.126685   \n",
       "min      0.000000                       0.000000    0.000000   \n",
       "25%      0.328330                       0.061675    0.150553   \n",
       "50%      0.435515                       0.107220    0.216130   \n",
       "75%      0.549092                       0.180255    0.309883   \n",
       "max      0.669730                       0.551910    0.795880   \n",
       "\n",
       "       Dystopia Residual  \n",
       "count         158.000000  \n",
       "mean            2.098977  \n",
       "std             0.553550  \n",
       "min             0.328580  \n",
       "25%             1.759410  \n",
       "50%             2.095415  \n",
       "75%             2.462415  \n",
       "max             3.602140  "
      ]
     },
     "execution_count": 8,
     "metadata": {},
     "output_type": "execute_result"
    }
   ],
   "source": [
    "df_2015.describe()"
   ]
  },
  {
   "cell_type": "code",
   "execution_count": 9,
   "id": "4cc002e3",
   "metadata": {},
   "outputs": [
    {
     "data": {
      "text/plain": [
       "Index(['Country', 'Region', 'Happiness Rank', 'Happiness Score',\n",
       "       'Standard Error', 'Economy (GDP per Capita)', 'Family',\n",
       "       'Health (Life Expectancy)', 'Freedom', 'Trust (Government Corruption)',\n",
       "       'Generosity', 'Dystopia Residual'],\n",
       "      dtype='object')"
      ]
     },
     "execution_count": 9,
     "metadata": {},
     "output_type": "execute_result"
    }
   ],
   "source": [
    "df_2015.columns"
   ]
  },
  {
   "cell_type": "code",
   "execution_count": 46,
   "id": "0d4b9822",
   "metadata": {},
   "outputs": [
    {
     "name": "stdout",
     "output_type": "stream",
     "text": [
      "<class 'pandas.core.frame.DataFrame'>\n",
      "RangeIndex: 157 entries, 0 to 156\n",
      "Data columns (total 13 columns):\n",
      " #   Column                         Non-Null Count  Dtype  \n",
      "---  ------                         --------------  -----  \n",
      " 0   Country                        157 non-null    object \n",
      " 1   Region                         157 non-null    object \n",
      " 2   Happiness Rank                 157 non-null    int64  \n",
      " 3   Happiness Score                157 non-null    float64\n",
      " 4   Lower Confidence Interval      157 non-null    float64\n",
      " 5   Upper Confidence Interval      157 non-null    float64\n",
      " 6   Economy (GDP per Capita)       157 non-null    float64\n",
      " 7   Family                         157 non-null    float64\n",
      " 8   Health (Life Expectancy)       157 non-null    float64\n",
      " 9   Freedom                        157 non-null    float64\n",
      " 10  Trust (Government Corruption)  157 non-null    float64\n",
      " 11  Generosity                     157 non-null    float64\n",
      " 12  Dystopia Residual              157 non-null    float64\n",
      "dtypes: float64(10), int64(1), object(2)\n",
      "memory usage: 16.1+ KB\n"
     ]
    }
   ],
   "source": [
    "df_2016.info()"
   ]
  },
  {
   "cell_type": "code",
   "execution_count": 47,
   "id": "fb35375f",
   "metadata": {},
   "outputs": [
    {
     "data": {
      "text/plain": [
       "(157, 13)"
      ]
     },
     "execution_count": 47,
     "metadata": {},
     "output_type": "execute_result"
    }
   ],
   "source": [
    "df_2016.shape"
   ]
  },
  {
   "cell_type": "code",
   "execution_count": 48,
   "id": "02af33be",
   "metadata": {},
   "outputs": [
    {
     "data": {
      "text/html": [
       "<div>\n",
       "<style scoped>\n",
       "    .dataframe tbody tr th:only-of-type {\n",
       "        vertical-align: middle;\n",
       "    }\n",
       "\n",
       "    .dataframe tbody tr th {\n",
       "        vertical-align: top;\n",
       "    }\n",
       "\n",
       "    .dataframe thead th {\n",
       "        text-align: right;\n",
       "    }\n",
       "</style>\n",
       "<table border=\"1\" class=\"dataframe\">\n",
       "  <thead>\n",
       "    <tr style=\"text-align: right;\">\n",
       "      <th></th>\n",
       "      <th>Happiness Rank</th>\n",
       "      <th>Happiness Score</th>\n",
       "      <th>Lower Confidence Interval</th>\n",
       "      <th>Upper Confidence Interval</th>\n",
       "      <th>Economy (GDP per Capita)</th>\n",
       "      <th>Family</th>\n",
       "      <th>Health (Life Expectancy)</th>\n",
       "      <th>Freedom</th>\n",
       "      <th>Trust (Government Corruption)</th>\n",
       "      <th>Generosity</th>\n",
       "      <th>Dystopia Residual</th>\n",
       "    </tr>\n",
       "  </thead>\n",
       "  <tbody>\n",
       "    <tr>\n",
       "      <th>count</th>\n",
       "      <td>157.000000</td>\n",
       "      <td>157.000000</td>\n",
       "      <td>157.000000</td>\n",
       "      <td>157.000000</td>\n",
       "      <td>157.000000</td>\n",
       "      <td>157.000000</td>\n",
       "      <td>157.000000</td>\n",
       "      <td>157.000000</td>\n",
       "      <td>157.000000</td>\n",
       "      <td>157.000000</td>\n",
       "      <td>157.000000</td>\n",
       "    </tr>\n",
       "    <tr>\n",
       "      <th>mean</th>\n",
       "      <td>78.980892</td>\n",
       "      <td>5.382185</td>\n",
       "      <td>5.282395</td>\n",
       "      <td>5.481975</td>\n",
       "      <td>0.953880</td>\n",
       "      <td>0.793621</td>\n",
       "      <td>0.557619</td>\n",
       "      <td>0.370994</td>\n",
       "      <td>0.137624</td>\n",
       "      <td>0.242635</td>\n",
       "      <td>2.325807</td>\n",
       "    </tr>\n",
       "    <tr>\n",
       "      <th>std</th>\n",
       "      <td>45.466030</td>\n",
       "      <td>1.141674</td>\n",
       "      <td>1.148043</td>\n",
       "      <td>1.136493</td>\n",
       "      <td>0.412595</td>\n",
       "      <td>0.266706</td>\n",
       "      <td>0.229349</td>\n",
       "      <td>0.145507</td>\n",
       "      <td>0.111038</td>\n",
       "      <td>0.133756</td>\n",
       "      <td>0.542220</td>\n",
       "    </tr>\n",
       "    <tr>\n",
       "      <th>min</th>\n",
       "      <td>1.000000</td>\n",
       "      <td>2.905000</td>\n",
       "      <td>2.732000</td>\n",
       "      <td>3.078000</td>\n",
       "      <td>0.000000</td>\n",
       "      <td>0.000000</td>\n",
       "      <td>0.000000</td>\n",
       "      <td>0.000000</td>\n",
       "      <td>0.000000</td>\n",
       "      <td>0.000000</td>\n",
       "      <td>0.817890</td>\n",
       "    </tr>\n",
       "    <tr>\n",
       "      <th>25%</th>\n",
       "      <td>40.000000</td>\n",
       "      <td>4.404000</td>\n",
       "      <td>4.327000</td>\n",
       "      <td>4.465000</td>\n",
       "      <td>0.670240</td>\n",
       "      <td>0.641840</td>\n",
       "      <td>0.382910</td>\n",
       "      <td>0.257480</td>\n",
       "      <td>0.061260</td>\n",
       "      <td>0.154570</td>\n",
       "      <td>2.031710</td>\n",
       "    </tr>\n",
       "    <tr>\n",
       "      <th>50%</th>\n",
       "      <td>79.000000</td>\n",
       "      <td>5.314000</td>\n",
       "      <td>5.237000</td>\n",
       "      <td>5.419000</td>\n",
       "      <td>1.027800</td>\n",
       "      <td>0.841420</td>\n",
       "      <td>0.596590</td>\n",
       "      <td>0.397470</td>\n",
       "      <td>0.105470</td>\n",
       "      <td>0.222450</td>\n",
       "      <td>2.290740</td>\n",
       "    </tr>\n",
       "    <tr>\n",
       "      <th>75%</th>\n",
       "      <td>118.000000</td>\n",
       "      <td>6.269000</td>\n",
       "      <td>6.154000</td>\n",
       "      <td>6.434000</td>\n",
       "      <td>1.279640</td>\n",
       "      <td>1.021520</td>\n",
       "      <td>0.729930</td>\n",
       "      <td>0.484530</td>\n",
       "      <td>0.175540</td>\n",
       "      <td>0.311850</td>\n",
       "      <td>2.664650</td>\n",
       "    </tr>\n",
       "    <tr>\n",
       "      <th>max</th>\n",
       "      <td>157.000000</td>\n",
       "      <td>7.526000</td>\n",
       "      <td>7.460000</td>\n",
       "      <td>7.669000</td>\n",
       "      <td>1.824270</td>\n",
       "      <td>1.183260</td>\n",
       "      <td>0.952770</td>\n",
       "      <td>0.608480</td>\n",
       "      <td>0.505210</td>\n",
       "      <td>0.819710</td>\n",
       "      <td>3.837720</td>\n",
       "    </tr>\n",
       "  </tbody>\n",
       "</table>\n",
       "</div>"
      ],
      "text/plain": [
       "       Happiness Rank  Happiness Score  Lower Confidence Interval  \\\n",
       "count      157.000000       157.000000                 157.000000   \n",
       "mean        78.980892         5.382185                   5.282395   \n",
       "std         45.466030         1.141674                   1.148043   \n",
       "min          1.000000         2.905000                   2.732000   \n",
       "25%         40.000000         4.404000                   4.327000   \n",
       "50%         79.000000         5.314000                   5.237000   \n",
       "75%        118.000000         6.269000                   6.154000   \n",
       "max        157.000000         7.526000                   7.460000   \n",
       "\n",
       "       Upper Confidence Interval  Economy (GDP per Capita)      Family  \\\n",
       "count                 157.000000                157.000000  157.000000   \n",
       "mean                    5.481975                  0.953880    0.793621   \n",
       "std                     1.136493                  0.412595    0.266706   \n",
       "min                     3.078000                  0.000000    0.000000   \n",
       "25%                     4.465000                  0.670240    0.641840   \n",
       "50%                     5.419000                  1.027800    0.841420   \n",
       "75%                     6.434000                  1.279640    1.021520   \n",
       "max                     7.669000                  1.824270    1.183260   \n",
       "\n",
       "       Health (Life Expectancy)     Freedom  Trust (Government Corruption)  \\\n",
       "count                157.000000  157.000000                     157.000000   \n",
       "mean                   0.557619    0.370994                       0.137624   \n",
       "std                    0.229349    0.145507                       0.111038   \n",
       "min                    0.000000    0.000000                       0.000000   \n",
       "25%                    0.382910    0.257480                       0.061260   \n",
       "50%                    0.596590    0.397470                       0.105470   \n",
       "75%                    0.729930    0.484530                       0.175540   \n",
       "max                    0.952770    0.608480                       0.505210   \n",
       "\n",
       "       Generosity  Dystopia Residual  \n",
       "count  157.000000         157.000000  \n",
       "mean     0.242635           2.325807  \n",
       "std      0.133756           0.542220  \n",
       "min      0.000000           0.817890  \n",
       "25%      0.154570           2.031710  \n",
       "50%      0.222450           2.290740  \n",
       "75%      0.311850           2.664650  \n",
       "max      0.819710           3.837720  "
      ]
     },
     "execution_count": 48,
     "metadata": {},
     "output_type": "execute_result"
    }
   ],
   "source": [
    "df_2016.describe()"
   ]
  },
  {
   "cell_type": "code",
   "execution_count": 49,
   "id": "6fa78fd8",
   "metadata": {},
   "outputs": [
    {
     "data": {
      "text/plain": [
       "Index(['Country', 'Region', 'Happiness Rank', 'Happiness Score',\n",
       "       'Lower Confidence Interval', 'Upper Confidence Interval',\n",
       "       'Economy (GDP per Capita)', 'Family', 'Health (Life Expectancy)',\n",
       "       'Freedom', 'Trust (Government Corruption)', 'Generosity',\n",
       "       'Dystopia Residual'],\n",
       "      dtype='object')"
      ]
     },
     "execution_count": 49,
     "metadata": {},
     "output_type": "execute_result"
    }
   ],
   "source": [
    "df_2016.columns"
   ]
  },
  {
   "cell_type": "code",
   "execution_count": 50,
   "id": "480eea09",
   "metadata": {},
   "outputs": [
    {
     "name": "stdout",
     "output_type": "stream",
     "text": [
      "<class 'pandas.core.frame.DataFrame'>\n",
      "RangeIndex: 155 entries, 0 to 154\n",
      "Data columns (total 12 columns):\n",
      " #   Column                         Non-Null Count  Dtype  \n",
      "---  ------                         --------------  -----  \n",
      " 0   Country                        155 non-null    object \n",
      " 1   Happiness.Rank                 155 non-null    int64  \n",
      " 2   Happiness.Score                155 non-null    float64\n",
      " 3   Whisker.high                   155 non-null    float64\n",
      " 4   Whisker.low                    155 non-null    float64\n",
      " 5   Economy..GDP.per.Capita.       155 non-null    float64\n",
      " 6   Family                         155 non-null    float64\n",
      " 7   Health..Life.Expectancy.       155 non-null    float64\n",
      " 8   Freedom                        155 non-null    float64\n",
      " 9   Generosity                     155 non-null    float64\n",
      " 10  Trust..Government.Corruption.  155 non-null    float64\n",
      " 11  Dystopia.Residual              155 non-null    float64\n",
      "dtypes: float64(10), int64(1), object(1)\n",
      "memory usage: 14.7+ KB\n"
     ]
    }
   ],
   "source": [
    "df_2017.info()"
   ]
  },
  {
   "cell_type": "code",
   "execution_count": 51,
   "id": "fa3ef891",
   "metadata": {},
   "outputs": [
    {
     "data": {
      "text/plain": [
       "(155, 12)"
      ]
     },
     "execution_count": 51,
     "metadata": {},
     "output_type": "execute_result"
    }
   ],
   "source": [
    "df_2017.shape"
   ]
  },
  {
   "cell_type": "code",
   "execution_count": 52,
   "id": "a3ba9811",
   "metadata": {},
   "outputs": [
    {
     "data": {
      "text/html": [
       "<div>\n",
       "<style scoped>\n",
       "    .dataframe tbody tr th:only-of-type {\n",
       "        vertical-align: middle;\n",
       "    }\n",
       "\n",
       "    .dataframe tbody tr th {\n",
       "        vertical-align: top;\n",
       "    }\n",
       "\n",
       "    .dataframe thead th {\n",
       "        text-align: right;\n",
       "    }\n",
       "</style>\n",
       "<table border=\"1\" class=\"dataframe\">\n",
       "  <thead>\n",
       "    <tr style=\"text-align: right;\">\n",
       "      <th></th>\n",
       "      <th>Happiness.Rank</th>\n",
       "      <th>Happiness.Score</th>\n",
       "      <th>Whisker.high</th>\n",
       "      <th>Whisker.low</th>\n",
       "      <th>Economy..GDP.per.Capita.</th>\n",
       "      <th>Family</th>\n",
       "      <th>Health..Life.Expectancy.</th>\n",
       "      <th>Freedom</th>\n",
       "      <th>Generosity</th>\n",
       "      <th>Trust..Government.Corruption.</th>\n",
       "      <th>Dystopia.Residual</th>\n",
       "    </tr>\n",
       "  </thead>\n",
       "  <tbody>\n",
       "    <tr>\n",
       "      <th>count</th>\n",
       "      <td>155.000000</td>\n",
       "      <td>155.000000</td>\n",
       "      <td>155.000000</td>\n",
       "      <td>155.000000</td>\n",
       "      <td>155.000000</td>\n",
       "      <td>155.000000</td>\n",
       "      <td>155.000000</td>\n",
       "      <td>155.000000</td>\n",
       "      <td>155.000000</td>\n",
       "      <td>155.000000</td>\n",
       "      <td>155.000000</td>\n",
       "    </tr>\n",
       "    <tr>\n",
       "      <th>mean</th>\n",
       "      <td>78.000000</td>\n",
       "      <td>5.354019</td>\n",
       "      <td>5.452326</td>\n",
       "      <td>5.255713</td>\n",
       "      <td>0.984718</td>\n",
       "      <td>1.188898</td>\n",
       "      <td>0.551341</td>\n",
       "      <td>0.408786</td>\n",
       "      <td>0.246883</td>\n",
       "      <td>0.123120</td>\n",
       "      <td>1.850238</td>\n",
       "    </tr>\n",
       "    <tr>\n",
       "      <th>std</th>\n",
       "      <td>44.888751</td>\n",
       "      <td>1.131230</td>\n",
       "      <td>1.118542</td>\n",
       "      <td>1.145030</td>\n",
       "      <td>0.420793</td>\n",
       "      <td>0.287263</td>\n",
       "      <td>0.237073</td>\n",
       "      <td>0.149997</td>\n",
       "      <td>0.134780</td>\n",
       "      <td>0.101661</td>\n",
       "      <td>0.500028</td>\n",
       "    </tr>\n",
       "    <tr>\n",
       "      <th>min</th>\n",
       "      <td>1.000000</td>\n",
       "      <td>2.693000</td>\n",
       "      <td>2.864884</td>\n",
       "      <td>2.521116</td>\n",
       "      <td>0.000000</td>\n",
       "      <td>0.000000</td>\n",
       "      <td>0.000000</td>\n",
       "      <td>0.000000</td>\n",
       "      <td>0.000000</td>\n",
       "      <td>0.000000</td>\n",
       "      <td>0.377914</td>\n",
       "    </tr>\n",
       "    <tr>\n",
       "      <th>25%</th>\n",
       "      <td>39.500000</td>\n",
       "      <td>4.505500</td>\n",
       "      <td>4.608172</td>\n",
       "      <td>4.374955</td>\n",
       "      <td>0.663371</td>\n",
       "      <td>1.042635</td>\n",
       "      <td>0.369866</td>\n",
       "      <td>0.303677</td>\n",
       "      <td>0.154106</td>\n",
       "      <td>0.057271</td>\n",
       "      <td>1.591291</td>\n",
       "    </tr>\n",
       "    <tr>\n",
       "      <th>50%</th>\n",
       "      <td>78.000000</td>\n",
       "      <td>5.279000</td>\n",
       "      <td>5.370032</td>\n",
       "      <td>5.193152</td>\n",
       "      <td>1.064578</td>\n",
       "      <td>1.253918</td>\n",
       "      <td>0.606042</td>\n",
       "      <td>0.437454</td>\n",
       "      <td>0.231538</td>\n",
       "      <td>0.089848</td>\n",
       "      <td>1.832910</td>\n",
       "    </tr>\n",
       "    <tr>\n",
       "      <th>75%</th>\n",
       "      <td>116.500000</td>\n",
       "      <td>6.101500</td>\n",
       "      <td>6.194600</td>\n",
       "      <td>6.006527</td>\n",
       "      <td>1.318027</td>\n",
       "      <td>1.414316</td>\n",
       "      <td>0.723008</td>\n",
       "      <td>0.516561</td>\n",
       "      <td>0.323762</td>\n",
       "      <td>0.153296</td>\n",
       "      <td>2.144654</td>\n",
       "    </tr>\n",
       "    <tr>\n",
       "      <th>max</th>\n",
       "      <td>155.000000</td>\n",
       "      <td>7.537000</td>\n",
       "      <td>7.622030</td>\n",
       "      <td>7.479556</td>\n",
       "      <td>1.870766</td>\n",
       "      <td>1.610574</td>\n",
       "      <td>0.949492</td>\n",
       "      <td>0.658249</td>\n",
       "      <td>0.838075</td>\n",
       "      <td>0.464308</td>\n",
       "      <td>3.117485</td>\n",
       "    </tr>\n",
       "  </tbody>\n",
       "</table>\n",
       "</div>"
      ],
      "text/plain": [
       "       Happiness.Rank  Happiness.Score  Whisker.high  Whisker.low  \\\n",
       "count      155.000000       155.000000    155.000000   155.000000   \n",
       "mean        78.000000         5.354019      5.452326     5.255713   \n",
       "std         44.888751         1.131230      1.118542     1.145030   \n",
       "min          1.000000         2.693000      2.864884     2.521116   \n",
       "25%         39.500000         4.505500      4.608172     4.374955   \n",
       "50%         78.000000         5.279000      5.370032     5.193152   \n",
       "75%        116.500000         6.101500      6.194600     6.006527   \n",
       "max        155.000000         7.537000      7.622030     7.479556   \n",
       "\n",
       "       Economy..GDP.per.Capita.      Family  Health..Life.Expectancy.  \\\n",
       "count                155.000000  155.000000                155.000000   \n",
       "mean                   0.984718    1.188898                  0.551341   \n",
       "std                    0.420793    0.287263                  0.237073   \n",
       "min                    0.000000    0.000000                  0.000000   \n",
       "25%                    0.663371    1.042635                  0.369866   \n",
       "50%                    1.064578    1.253918                  0.606042   \n",
       "75%                    1.318027    1.414316                  0.723008   \n",
       "max                    1.870766    1.610574                  0.949492   \n",
       "\n",
       "          Freedom  Generosity  Trust..Government.Corruption.  \\\n",
       "count  155.000000  155.000000                     155.000000   \n",
       "mean     0.408786    0.246883                       0.123120   \n",
       "std      0.149997    0.134780                       0.101661   \n",
       "min      0.000000    0.000000                       0.000000   \n",
       "25%      0.303677    0.154106                       0.057271   \n",
       "50%      0.437454    0.231538                       0.089848   \n",
       "75%      0.516561    0.323762                       0.153296   \n",
       "max      0.658249    0.838075                       0.464308   \n",
       "\n",
       "       Dystopia.Residual  \n",
       "count         155.000000  \n",
       "mean            1.850238  \n",
       "std             0.500028  \n",
       "min             0.377914  \n",
       "25%             1.591291  \n",
       "50%             1.832910  \n",
       "75%             2.144654  \n",
       "max             3.117485  "
      ]
     },
     "execution_count": 52,
     "metadata": {},
     "output_type": "execute_result"
    }
   ],
   "source": [
    "df_2017.describe()"
   ]
  },
  {
   "cell_type": "code",
   "execution_count": 53,
   "id": "b658e484",
   "metadata": {},
   "outputs": [
    {
     "data": {
      "text/plain": [
       "Index(['Country', 'Happiness.Rank', 'Happiness.Score', 'Whisker.high',\n",
       "       'Whisker.low', 'Economy..GDP.per.Capita.', 'Family',\n",
       "       'Health..Life.Expectancy.', 'Freedom', 'Generosity',\n",
       "       'Trust..Government.Corruption.', 'Dystopia.Residual'],\n",
       "      dtype='object')"
      ]
     },
     "execution_count": 53,
     "metadata": {},
     "output_type": "execute_result"
    }
   ],
   "source": [
    "df_2017.columns"
   ]
  },
  {
   "cell_type": "code",
   "execution_count": 54,
   "id": "53d0d00b",
   "metadata": {},
   "outputs": [
    {
     "name": "stdout",
     "output_type": "stream",
     "text": [
      "<class 'pandas.core.frame.DataFrame'>\n",
      "RangeIndex: 156 entries, 0 to 155\n",
      "Data columns (total 9 columns):\n",
      " #   Column                        Non-Null Count  Dtype  \n",
      "---  ------                        --------------  -----  \n",
      " 0   Overall rank                  156 non-null    int64  \n",
      " 1   Country or region             156 non-null    object \n",
      " 2   Score                         156 non-null    float64\n",
      " 3   GDP per capita                156 non-null    float64\n",
      " 4   Social support                156 non-null    float64\n",
      " 5   Healthy life expectancy       156 non-null    float64\n",
      " 6   Freedom to make life choices  156 non-null    float64\n",
      " 7   Generosity                    156 non-null    float64\n",
      " 8   Perceptions of corruption     155 non-null    float64\n",
      "dtypes: float64(7), int64(1), object(1)\n",
      "memory usage: 11.1+ KB\n"
     ]
    }
   ],
   "source": [
    "df_2018.info()"
   ]
  },
  {
   "cell_type": "code",
   "execution_count": 55,
   "id": "5b6d3ec2",
   "metadata": {},
   "outputs": [
    {
     "data": {
      "text/plain": [
       "(156, 9)"
      ]
     },
     "execution_count": 55,
     "metadata": {},
     "output_type": "execute_result"
    }
   ],
   "source": [
    "df_2018.shape"
   ]
  },
  {
   "cell_type": "code",
   "execution_count": 56,
   "id": "11aaae3a",
   "metadata": {},
   "outputs": [
    {
     "data": {
      "text/html": [
       "<div>\n",
       "<style scoped>\n",
       "    .dataframe tbody tr th:only-of-type {\n",
       "        vertical-align: middle;\n",
       "    }\n",
       "\n",
       "    .dataframe tbody tr th {\n",
       "        vertical-align: top;\n",
       "    }\n",
       "\n",
       "    .dataframe thead th {\n",
       "        text-align: right;\n",
       "    }\n",
       "</style>\n",
       "<table border=\"1\" class=\"dataframe\">\n",
       "  <thead>\n",
       "    <tr style=\"text-align: right;\">\n",
       "      <th></th>\n",
       "      <th>Overall rank</th>\n",
       "      <th>Score</th>\n",
       "      <th>GDP per capita</th>\n",
       "      <th>Social support</th>\n",
       "      <th>Healthy life expectancy</th>\n",
       "      <th>Freedom to make life choices</th>\n",
       "      <th>Generosity</th>\n",
       "      <th>Perceptions of corruption</th>\n",
       "    </tr>\n",
       "  </thead>\n",
       "  <tbody>\n",
       "    <tr>\n",
       "      <th>count</th>\n",
       "      <td>156.000000</td>\n",
       "      <td>156.000000</td>\n",
       "      <td>156.000000</td>\n",
       "      <td>156.000000</td>\n",
       "      <td>156.000000</td>\n",
       "      <td>156.000000</td>\n",
       "      <td>156.000000</td>\n",
       "      <td>155.000000</td>\n",
       "    </tr>\n",
       "    <tr>\n",
       "      <th>mean</th>\n",
       "      <td>78.500000</td>\n",
       "      <td>5.375917</td>\n",
       "      <td>0.891449</td>\n",
       "      <td>1.213237</td>\n",
       "      <td>0.597346</td>\n",
       "      <td>0.454506</td>\n",
       "      <td>0.181006</td>\n",
       "      <td>0.112000</td>\n",
       "    </tr>\n",
       "    <tr>\n",
       "      <th>std</th>\n",
       "      <td>45.177428</td>\n",
       "      <td>1.119506</td>\n",
       "      <td>0.391921</td>\n",
       "      <td>0.302372</td>\n",
       "      <td>0.247579</td>\n",
       "      <td>0.162424</td>\n",
       "      <td>0.098471</td>\n",
       "      <td>0.096492</td>\n",
       "    </tr>\n",
       "    <tr>\n",
       "      <th>min</th>\n",
       "      <td>1.000000</td>\n",
       "      <td>2.905000</td>\n",
       "      <td>0.000000</td>\n",
       "      <td>0.000000</td>\n",
       "      <td>0.000000</td>\n",
       "      <td>0.000000</td>\n",
       "      <td>0.000000</td>\n",
       "      <td>0.000000</td>\n",
       "    </tr>\n",
       "    <tr>\n",
       "      <th>25%</th>\n",
       "      <td>39.750000</td>\n",
       "      <td>4.453750</td>\n",
       "      <td>0.616250</td>\n",
       "      <td>1.066750</td>\n",
       "      <td>0.422250</td>\n",
       "      <td>0.356000</td>\n",
       "      <td>0.109500</td>\n",
       "      <td>0.051000</td>\n",
       "    </tr>\n",
       "    <tr>\n",
       "      <th>50%</th>\n",
       "      <td>78.500000</td>\n",
       "      <td>5.378000</td>\n",
       "      <td>0.949500</td>\n",
       "      <td>1.255000</td>\n",
       "      <td>0.644000</td>\n",
       "      <td>0.487000</td>\n",
       "      <td>0.174000</td>\n",
       "      <td>0.082000</td>\n",
       "    </tr>\n",
       "    <tr>\n",
       "      <th>75%</th>\n",
       "      <td>117.250000</td>\n",
       "      <td>6.168500</td>\n",
       "      <td>1.197750</td>\n",
       "      <td>1.463000</td>\n",
       "      <td>0.777250</td>\n",
       "      <td>0.578500</td>\n",
       "      <td>0.239000</td>\n",
       "      <td>0.137000</td>\n",
       "    </tr>\n",
       "    <tr>\n",
       "      <th>max</th>\n",
       "      <td>156.000000</td>\n",
       "      <td>7.632000</td>\n",
       "      <td>2.096000</td>\n",
       "      <td>1.644000</td>\n",
       "      <td>1.030000</td>\n",
       "      <td>0.724000</td>\n",
       "      <td>0.598000</td>\n",
       "      <td>0.457000</td>\n",
       "    </tr>\n",
       "  </tbody>\n",
       "</table>\n",
       "</div>"
      ],
      "text/plain": [
       "       Overall rank       Score  GDP per capita  Social support  \\\n",
       "count    156.000000  156.000000      156.000000      156.000000   \n",
       "mean      78.500000    5.375917        0.891449        1.213237   \n",
       "std       45.177428    1.119506        0.391921        0.302372   \n",
       "min        1.000000    2.905000        0.000000        0.000000   \n",
       "25%       39.750000    4.453750        0.616250        1.066750   \n",
       "50%       78.500000    5.378000        0.949500        1.255000   \n",
       "75%      117.250000    6.168500        1.197750        1.463000   \n",
       "max      156.000000    7.632000        2.096000        1.644000   \n",
       "\n",
       "       Healthy life expectancy  Freedom to make life choices  Generosity  \\\n",
       "count               156.000000                    156.000000  156.000000   \n",
       "mean                  0.597346                      0.454506    0.181006   \n",
       "std                   0.247579                      0.162424    0.098471   \n",
       "min                   0.000000                      0.000000    0.000000   \n",
       "25%                   0.422250                      0.356000    0.109500   \n",
       "50%                   0.644000                      0.487000    0.174000   \n",
       "75%                   0.777250                      0.578500    0.239000   \n",
       "max                   1.030000                      0.724000    0.598000   \n",
       "\n",
       "       Perceptions of corruption  \n",
       "count                 155.000000  \n",
       "mean                    0.112000  \n",
       "std                     0.096492  \n",
       "min                     0.000000  \n",
       "25%                     0.051000  \n",
       "50%                     0.082000  \n",
       "75%                     0.137000  \n",
       "max                     0.457000  "
      ]
     },
     "execution_count": 56,
     "metadata": {},
     "output_type": "execute_result"
    }
   ],
   "source": [
    "df_2018.describe()"
   ]
  },
  {
   "cell_type": "code",
   "execution_count": 57,
   "id": "0abebf68",
   "metadata": {},
   "outputs": [
    {
     "data": {
      "text/plain": [
       "Index(['Overall rank', 'Country or region', 'Score', 'GDP per capita',\n",
       "       'Social support', 'Healthy life expectancy',\n",
       "       'Freedom to make life choices', 'Generosity',\n",
       "       'Perceptions of corruption'],\n",
       "      dtype='object')"
      ]
     },
     "execution_count": 57,
     "metadata": {},
     "output_type": "execute_result"
    }
   ],
   "source": [
    "df_2018.columns"
   ]
  },
  {
   "cell_type": "code",
   "execution_count": 58,
   "id": "b98baf4c",
   "metadata": {},
   "outputs": [
    {
     "name": "stdout",
     "output_type": "stream",
     "text": [
      "<class 'pandas.core.frame.DataFrame'>\n",
      "RangeIndex: 156 entries, 0 to 155\n",
      "Data columns (total 9 columns):\n",
      " #   Column                        Non-Null Count  Dtype  \n",
      "---  ------                        --------------  -----  \n",
      " 0   Overall rank                  156 non-null    int64  \n",
      " 1   Country or region             156 non-null    object \n",
      " 2   Score                         156 non-null    float64\n",
      " 3   GDP per capita                156 non-null    float64\n",
      " 4   Social support                156 non-null    float64\n",
      " 5   Healthy life expectancy       156 non-null    float64\n",
      " 6   Freedom to make life choices  156 non-null    float64\n",
      " 7   Generosity                    156 non-null    float64\n",
      " 8   Perceptions of corruption     156 non-null    float64\n",
      "dtypes: float64(7), int64(1), object(1)\n",
      "memory usage: 11.1+ KB\n"
     ]
    }
   ],
   "source": [
    "df_2019.info()"
   ]
  },
  {
   "cell_type": "code",
   "execution_count": 59,
   "id": "e2ca9e17",
   "metadata": {},
   "outputs": [
    {
     "data": {
      "text/plain": [
       "(156, 9)"
      ]
     },
     "execution_count": 59,
     "metadata": {},
     "output_type": "execute_result"
    }
   ],
   "source": [
    "df_2019.shape"
   ]
  },
  {
   "cell_type": "code",
   "execution_count": 60,
   "id": "d5c67dcb",
   "metadata": {},
   "outputs": [
    {
     "data": {
      "text/html": [
       "<div>\n",
       "<style scoped>\n",
       "    .dataframe tbody tr th:only-of-type {\n",
       "        vertical-align: middle;\n",
       "    }\n",
       "\n",
       "    .dataframe tbody tr th {\n",
       "        vertical-align: top;\n",
       "    }\n",
       "\n",
       "    .dataframe thead th {\n",
       "        text-align: right;\n",
       "    }\n",
       "</style>\n",
       "<table border=\"1\" class=\"dataframe\">\n",
       "  <thead>\n",
       "    <tr style=\"text-align: right;\">\n",
       "      <th></th>\n",
       "      <th>Overall rank</th>\n",
       "      <th>Score</th>\n",
       "      <th>GDP per capita</th>\n",
       "      <th>Social support</th>\n",
       "      <th>Healthy life expectancy</th>\n",
       "      <th>Freedom to make life choices</th>\n",
       "      <th>Generosity</th>\n",
       "      <th>Perceptions of corruption</th>\n",
       "    </tr>\n",
       "  </thead>\n",
       "  <tbody>\n",
       "    <tr>\n",
       "      <th>count</th>\n",
       "      <td>156.000000</td>\n",
       "      <td>156.000000</td>\n",
       "      <td>156.000000</td>\n",
       "      <td>156.000000</td>\n",
       "      <td>156.000000</td>\n",
       "      <td>156.000000</td>\n",
       "      <td>156.000000</td>\n",
       "      <td>156.000000</td>\n",
       "    </tr>\n",
       "    <tr>\n",
       "      <th>mean</th>\n",
       "      <td>78.500000</td>\n",
       "      <td>5.407096</td>\n",
       "      <td>0.905147</td>\n",
       "      <td>1.208814</td>\n",
       "      <td>0.725244</td>\n",
       "      <td>0.392571</td>\n",
       "      <td>0.184846</td>\n",
       "      <td>0.110603</td>\n",
       "    </tr>\n",
       "    <tr>\n",
       "      <th>std</th>\n",
       "      <td>45.177428</td>\n",
       "      <td>1.113120</td>\n",
       "      <td>0.398389</td>\n",
       "      <td>0.299191</td>\n",
       "      <td>0.242124</td>\n",
       "      <td>0.143289</td>\n",
       "      <td>0.095254</td>\n",
       "      <td>0.094538</td>\n",
       "    </tr>\n",
       "    <tr>\n",
       "      <th>min</th>\n",
       "      <td>1.000000</td>\n",
       "      <td>2.853000</td>\n",
       "      <td>0.000000</td>\n",
       "      <td>0.000000</td>\n",
       "      <td>0.000000</td>\n",
       "      <td>0.000000</td>\n",
       "      <td>0.000000</td>\n",
       "      <td>0.000000</td>\n",
       "    </tr>\n",
       "    <tr>\n",
       "      <th>25%</th>\n",
       "      <td>39.750000</td>\n",
       "      <td>4.544500</td>\n",
       "      <td>0.602750</td>\n",
       "      <td>1.055750</td>\n",
       "      <td>0.547750</td>\n",
       "      <td>0.308000</td>\n",
       "      <td>0.108750</td>\n",
       "      <td>0.047000</td>\n",
       "    </tr>\n",
       "    <tr>\n",
       "      <th>50%</th>\n",
       "      <td>78.500000</td>\n",
       "      <td>5.379500</td>\n",
       "      <td>0.960000</td>\n",
       "      <td>1.271500</td>\n",
       "      <td>0.789000</td>\n",
       "      <td>0.417000</td>\n",
       "      <td>0.177500</td>\n",
       "      <td>0.085500</td>\n",
       "    </tr>\n",
       "    <tr>\n",
       "      <th>75%</th>\n",
       "      <td>117.250000</td>\n",
       "      <td>6.184500</td>\n",
       "      <td>1.232500</td>\n",
       "      <td>1.452500</td>\n",
       "      <td>0.881750</td>\n",
       "      <td>0.507250</td>\n",
       "      <td>0.248250</td>\n",
       "      <td>0.141250</td>\n",
       "    </tr>\n",
       "    <tr>\n",
       "      <th>max</th>\n",
       "      <td>156.000000</td>\n",
       "      <td>7.769000</td>\n",
       "      <td>1.684000</td>\n",
       "      <td>1.624000</td>\n",
       "      <td>1.141000</td>\n",
       "      <td>0.631000</td>\n",
       "      <td>0.566000</td>\n",
       "      <td>0.453000</td>\n",
       "    </tr>\n",
       "  </tbody>\n",
       "</table>\n",
       "</div>"
      ],
      "text/plain": [
       "       Overall rank       Score  GDP per capita  Social support  \\\n",
       "count    156.000000  156.000000      156.000000      156.000000   \n",
       "mean      78.500000    5.407096        0.905147        1.208814   \n",
       "std       45.177428    1.113120        0.398389        0.299191   \n",
       "min        1.000000    2.853000        0.000000        0.000000   \n",
       "25%       39.750000    4.544500        0.602750        1.055750   \n",
       "50%       78.500000    5.379500        0.960000        1.271500   \n",
       "75%      117.250000    6.184500        1.232500        1.452500   \n",
       "max      156.000000    7.769000        1.684000        1.624000   \n",
       "\n",
       "       Healthy life expectancy  Freedom to make life choices  Generosity  \\\n",
       "count               156.000000                    156.000000  156.000000   \n",
       "mean                  0.725244                      0.392571    0.184846   \n",
       "std                   0.242124                      0.143289    0.095254   \n",
       "min                   0.000000                      0.000000    0.000000   \n",
       "25%                   0.547750                      0.308000    0.108750   \n",
       "50%                   0.789000                      0.417000    0.177500   \n",
       "75%                   0.881750                      0.507250    0.248250   \n",
       "max                   1.141000                      0.631000    0.566000   \n",
       "\n",
       "       Perceptions of corruption  \n",
       "count                 156.000000  \n",
       "mean                    0.110603  \n",
       "std                     0.094538  \n",
       "min                     0.000000  \n",
       "25%                     0.047000  \n",
       "50%                     0.085500  \n",
       "75%                     0.141250  \n",
       "max                     0.453000  "
      ]
     },
     "execution_count": 60,
     "metadata": {},
     "output_type": "execute_result"
    }
   ],
   "source": [
    "df_2019.describe()"
   ]
  },
  {
   "cell_type": "code",
   "execution_count": 61,
   "id": "8c48b2b8",
   "metadata": {},
   "outputs": [
    {
     "data": {
      "text/plain": [
       "Index(['Overall rank', 'Country or region', 'Score', 'GDP per capita',\n",
       "       'Social support', 'Healthy life expectancy',\n",
       "       'Freedom to make life choices', 'Generosity',\n",
       "       'Perceptions of corruption'],\n",
       "      dtype='object')"
      ]
     },
     "execution_count": 61,
     "metadata": {},
     "output_type": "execute_result"
    }
   ],
   "source": [
    "df_2019.columns"
   ]
  },
  {
   "cell_type": "markdown",
   "id": "834929aa-fd6a-4ec5-84d4-77c4b3c1a506",
   "metadata": {},
   "source": [
    "The process of profiling differs slightly for categorical and numerical variables due to their inherent differences.\n",
    "\n",
    "**The two main types of data are:**\n",
    "- Quantitative (numerical) data\n",
    "- Qualitative (categorical) data"
   ]
  },
  {
   "cell_type": "markdown",
   "id": "3a9954f5-6fbc-45b4-ad86-3e21b6e0ca2d",
   "metadata": {},
   "source": [
    "### Data Quality Checks\n",
    "Data quality checks involve the process of ensuring that the data is accurate, complete, consistent, relevant, and reliable. \n",
    "\n",
    "\n",
    "**Here are typical steps involved in checking data quality:**"
   ]
  },
  {
   "cell_type": "markdown",
   "id": "4818c876-173d-4e56-9e7d-b4334d2def25",
   "metadata": {},
   "source": [
    "#### 1. Reliability:\n",
    "Evaluate the data's source and collection process to determine its trustworthiness."
   ]
  },
  {
   "cell_type": "code",
   "execution_count": 58,
   "id": "9034ae7b-dc1d-4cba-8f9e-bb499d021cde",
   "metadata": {},
   "outputs": [],
   "source": [
    "# the dataset was contributed by UN Sustainable Development Solutions Network (UNSDSN), a reputable organization. This adds credibility, as data is likely to have been collected using verified and systematic methods"
   ]
  },
  {
   "cell_type": "markdown",
   "id": "2ce0cc59-8c92-4acc-8d07-c40764e1a86b",
   "metadata": {},
   "source": [
    "#### 2. Timeliness: \n",
    "Ensure the data is up-to-date and reflective of the current situation or the period of interest for the analysis."
   ]
  },
  {
   "cell_type": "code",
   "execution_count": null,
   "id": "4b78ae35-7226-4cb6-b8b2-a46c2ed17cf9",
   "metadata": {},
   "outputs": [],
   "source": [
    "#i have two perspective, firstly It's not up-to-date, because dataset is old since 2019 and we are at the end of 2024, secondly, as long as my goals invlove analyzing data from specific years, so the age of the dataset is consistent with my analysis focus "
   ]
  },
  {
   "cell_type": "markdown",
   "id": "7fab0fe2-6624-4615-b9d8-3c3669056bf8",
   "metadata": {},
   "source": [
    "#### 3. Consistency: \n",
    "\n",
    "Confirm that the data is consistent within the dataset and across multiple data sources. For example, the same data point should not have different values in different places.\n"
   ]
  },
  {
   "cell_type": "code",
   "execution_count": 59,
   "id": "7fecc573-959f-4800-8ddd-a67985c68b18",
   "metadata": {},
   "outputs": [],
   "source": [
    "# it is consistent "
   ]
  },
  {
   "cell_type": "markdown",
   "id": "bec3d183-bba0-4b12-b963-487daab1e876",
   "metadata": {},
   "source": [
    "#### 4. Relevance: \n",
    "Assess whether the data is appropriate and applicable for the intended analysis. Data that is not relevant can skew results and lead to incorrect conclusions.\n",
    "\n",
    "**Key considerations for relevance include:**\n",
    "\n",
    "> 1. Sample Appropriateness: Confirm that your data sample aligns with your analysis objectives. For instance, utilizing data from the Northern region will not yield accurate insights for the Western region of the Kingdom.\n",
    ">\n",
    "> 2. Variable Selection: Any column will not be relevant for our analysis, we can get rid of these using the drop() method. We will set the “axis” argument to 1 since we’re dealing with columns, and set the “inplace” argument to True to make the change permanent.\n"
   ]
  },
  {
   "cell_type": "code",
   "execution_count": null,
   "id": "50a934b7-a0cd-443f-8a27-f10e9a6e8647",
   "metadata": {
    "scrolled": true
   },
   "outputs": [],
   "source": [
    "# the dataset is relevant since it provides country-level happiness scores and factors like economy and health, which align directly with my analysis goals  "
   ]
  },
  {
   "cell_type": "markdown",
   "id": "0f5e3a2a-bbb7-4d06-8220-c93277b70146",
   "metadata": {},
   "source": [
    "#### 5. Uniqueness: \n",
    "Check for and remove duplicate records to prevent skewed analysis results.\n"
   ]
  },
  {
   "cell_type": "code",
   "execution_count": null,
   "id": "a509a7aa-58f4-4d39-8eb8-e8298a21f2a7",
   "metadata": {},
   "outputs": [],
   "source": [
    "# nothing should be removed"
   ]
  },
  {
   "cell_type": "code",
   "execution_count": 10,
   "id": "04c62559-3b48-48cf-a4e9-857e2e0ff416",
   "metadata": {},
   "outputs": [
    {
     "data": {
      "text/plain": [
       "0      False\n",
       "1      False\n",
       "2      False\n",
       "3      False\n",
       "4      False\n",
       "       ...  \n",
       "153    False\n",
       "154    False\n",
       "155    False\n",
       "156    False\n",
       "157    False\n",
       "Length: 158, dtype: bool"
      ]
     },
     "execution_count": 10,
     "metadata": {},
     "output_type": "execute_result"
    }
   ],
   "source": [
    "df_2015.duplicated()"
   ]
  },
  {
   "cell_type": "code",
   "execution_count": 62,
   "id": "415e01d2",
   "metadata": {},
   "outputs": [
    {
     "data": {
      "text/plain": [
       "0      False\n",
       "1      False\n",
       "2      False\n",
       "3      False\n",
       "4      False\n",
       "       ...  \n",
       "152    False\n",
       "153    False\n",
       "154    False\n",
       "155    False\n",
       "156    False\n",
       "Length: 157, dtype: bool"
      ]
     },
     "execution_count": 62,
     "metadata": {},
     "output_type": "execute_result"
    }
   ],
   "source": [
    "df_2016.duplicated()"
   ]
  },
  {
   "cell_type": "code",
   "execution_count": 63,
   "id": "86dea4ff",
   "metadata": {},
   "outputs": [
    {
     "data": {
      "text/plain": [
       "0      False\n",
       "1      False\n",
       "2      False\n",
       "3      False\n",
       "4      False\n",
       "       ...  \n",
       "150    False\n",
       "151    False\n",
       "152    False\n",
       "153    False\n",
       "154    False\n",
       "Length: 155, dtype: bool"
      ]
     },
     "execution_count": 63,
     "metadata": {},
     "output_type": "execute_result"
    }
   ],
   "source": [
    "df_2017.duplicated()"
   ]
  },
  {
   "cell_type": "code",
   "execution_count": 64,
   "id": "f94f358a",
   "metadata": {},
   "outputs": [
    {
     "data": {
      "text/plain": [
       "0      False\n",
       "1      False\n",
       "2      False\n",
       "3      False\n",
       "4      False\n",
       "       ...  \n",
       "151    False\n",
       "152    False\n",
       "153    False\n",
       "154    False\n",
       "155    False\n",
       "Length: 156, dtype: bool"
      ]
     },
     "execution_count": 64,
     "metadata": {},
     "output_type": "execute_result"
    }
   ],
   "source": [
    "df_2018.duplicated()"
   ]
  },
  {
   "cell_type": "code",
   "execution_count": 65,
   "id": "4c9474ec",
   "metadata": {},
   "outputs": [
    {
     "data": {
      "text/plain": [
       "0      False\n",
       "1      False\n",
       "2      False\n",
       "3      False\n",
       "4      False\n",
       "       ...  \n",
       "151    False\n",
       "152    False\n",
       "153    False\n",
       "154    False\n",
       "155    False\n",
       "Length: 156, dtype: bool"
      ]
     },
     "execution_count": 65,
     "metadata": {},
     "output_type": "execute_result"
    }
   ],
   "source": [
    "df_2019.duplicated()"
   ]
  },
  {
   "cell_type": "markdown",
   "id": "c7724ac2-4ea2-4cf4-a9e0-e64368f87b92",
   "metadata": {},
   "source": [
    "#### 6. Completeness: \n",
    "Ensure that no critical data is missing. This might mean checking for null values or required fields that are empty.\n",
    "\n",
    "We will start by checking the dataset for missing or null values. For this, we can use the isna() method which returns a dataframe of boolean values indicating if a field is null or not. To group all missing values by column, we can include the sum() method."
   ]
  },
  {
   "cell_type": "code",
   "execution_count": 11,
   "id": "48a4de54-a344-4b94-9908-9528c15c13f7",
   "metadata": {},
   "outputs": [
    {
     "data": {
      "text/plain": [
       "Country                          0\n",
       "Region                           0\n",
       "Happiness Rank                   0\n",
       "Happiness Score                  0\n",
       "Standard Error                   0\n",
       "Economy (GDP per Capita)         0\n",
       "Family                           0\n",
       "Health (Life Expectancy)         0\n",
       "Freedom                          0\n",
       "Trust (Government Corruption)    0\n",
       "Generosity                       0\n",
       "Dystopia Residual                0\n",
       "dtype: int64"
      ]
     },
     "execution_count": 11,
     "metadata": {},
     "output_type": "execute_result"
    }
   ],
   "source": [
    "df_2015.isnull().sum().sort_values(ascending = False) # there are no missing data"
   ]
  },
  {
   "cell_type": "code",
   "execution_count": 66,
   "id": "abec31c4-0904-4b73-8cee-b7bc14ab1e67",
   "metadata": {},
   "outputs": [
    {
     "data": {
      "text/plain": [
       "Country                          0\n",
       "Region                           0\n",
       "Happiness Rank                   0\n",
       "Happiness Score                  0\n",
       "Lower Confidence Interval        0\n",
       "Upper Confidence Interval        0\n",
       "Economy (GDP per Capita)         0\n",
       "Family                           0\n",
       "Health (Life Expectancy)         0\n",
       "Freedom                          0\n",
       "Trust (Government Corruption)    0\n",
       "Generosity                       0\n",
       "Dystopia Residual                0\n",
       "dtype: int64"
      ]
     },
     "execution_count": 66,
     "metadata": {},
     "output_type": "execute_result"
    }
   ],
   "source": [
    "df_2016.isnull().sum().sort_values(ascending = False) # there are no missing data"
   ]
  },
  {
   "cell_type": "code",
   "execution_count": 67,
   "id": "b3fdb4b1",
   "metadata": {},
   "outputs": [
    {
     "data": {
      "text/plain": [
       "Country                          0\n",
       "Happiness.Rank                   0\n",
       "Happiness.Score                  0\n",
       "Whisker.high                     0\n",
       "Whisker.low                      0\n",
       "Economy..GDP.per.Capita.         0\n",
       "Family                           0\n",
       "Health..Life.Expectancy.         0\n",
       "Freedom                          0\n",
       "Generosity                       0\n",
       "Trust..Government.Corruption.    0\n",
       "Dystopia.Residual                0\n",
       "dtype: int64"
      ]
     },
     "execution_count": 67,
     "metadata": {},
     "output_type": "execute_result"
    }
   ],
   "source": [
    "df_2017.isnull().sum().sort_values(ascending = False) # there are no missing data"
   ]
  },
  {
   "cell_type": "code",
   "execution_count": 68,
   "id": "40b0e200",
   "metadata": {},
   "outputs": [
    {
     "data": {
      "text/plain": [
       "Perceptions of corruption       1\n",
       "Overall rank                    0\n",
       "Country or region               0\n",
       "Score                           0\n",
       "GDP per capita                  0\n",
       "Social support                  0\n",
       "Healthy life expectancy         0\n",
       "Freedom to make life choices    0\n",
       "Generosity                      0\n",
       "dtype: int64"
      ]
     },
     "execution_count": 68,
     "metadata": {},
     "output_type": "execute_result"
    }
   ],
   "source": [
    "df_2018.isnull().sum().sort_values(ascending = False) # there are no missing data"
   ]
  },
  {
   "cell_type": "code",
   "execution_count": 69,
   "id": "b2b9af2e",
   "metadata": {},
   "outputs": [
    {
     "data": {
      "text/plain": [
       "Overall rank                    0\n",
       "Country or region               0\n",
       "Score                           0\n",
       "GDP per capita                  0\n",
       "Social support                  0\n",
       "Healthy life expectancy         0\n",
       "Freedom to make life choices    0\n",
       "Generosity                      0\n",
       "Perceptions of corruption       0\n",
       "dtype: int64"
      ]
     },
     "execution_count": 69,
     "metadata": {},
     "output_type": "execute_result"
    }
   ],
   "source": [
    "df_2019.isnull().sum().sort_values(ascending = False) # there are no missing data"
   ]
  },
  {
   "cell_type": "code",
   "execution_count": null,
   "id": "5a454cc0",
   "metadata": {},
   "outputs": [],
   "source": []
  },
  {
   "cell_type": "markdown",
   "id": "b40de63c-5a1d-49ed-a87e-c5229ee08bbe",
   "metadata": {},
   "source": [
    "#### 7. Check Accuracy:\n",
    "\n",
    "Verify that the data is correct and precise. This could involve comparing data samples with known sources or using validation rules.\n",
    "\n",
    "**The process includes:**\n",
    "1. Validating the appropriateness of data types for the dataset.\n",
    "2. Identifying outliers  using established validation  rule"
   ]
  },
  {
   "cell_type": "code",
   "execution_count": 41,
   "id": "d20364a0",
   "metadata": {},
   "outputs": [
    {
     "name": "stdout",
     "output_type": "stream",
     "text": [
      "<class 'pandas.core.frame.DataFrame'>\n",
      "RangeIndex: 158 entries, 0 to 157\n",
      "Data columns (total 12 columns):\n",
      " #   Column                         Non-Null Count  Dtype  \n",
      "---  ------                         --------------  -----  \n",
      " 0   Country                        158 non-null    object \n",
      " 1   Region                         158 non-null    object \n",
      " 2   Happiness Rank                 158 non-null    int64  \n",
      " 3   Happiness Score                158 non-null    float64\n",
      " 4   Standard Error                 158 non-null    float64\n",
      " 5   Economy (GDP per Capita)       158 non-null    float64\n",
      " 6   Family                         158 non-null    float64\n",
      " 7   Health (Life Expectancy)       158 non-null    float64\n",
      " 8   Freedom                        158 non-null    float64\n",
      " 9   Trust (Government Corruption)  158 non-null    float64\n",
      " 10  Generosity                     158 non-null    float64\n",
      " 11  Dystopia Residual              158 non-null    float64\n",
      "dtypes: float64(9), int64(1), object(2)\n",
      "memory usage: 14.9+ KB\n"
     ]
    }
   ],
   "source": [
    "df_2015.info()"
   ]
  },
  {
   "cell_type": "code",
   "execution_count": 42,
   "id": "b22815df",
   "metadata": {},
   "outputs": [
    {
     "name": "stdout",
     "output_type": "stream",
     "text": [
      "<class 'pandas.core.frame.DataFrame'>\n",
      "RangeIndex: 157 entries, 0 to 156\n",
      "Data columns (total 13 columns):\n",
      " #   Column                         Non-Null Count  Dtype  \n",
      "---  ------                         --------------  -----  \n",
      " 0   Country                        157 non-null    object \n",
      " 1   Region                         157 non-null    object \n",
      " 2   Happiness Rank                 157 non-null    int64  \n",
      " 3   Happiness Score                157 non-null    float64\n",
      " 4   Lower Confidence Interval      157 non-null    float64\n",
      " 5   Upper Confidence Interval      157 non-null    float64\n",
      " 6   Economy (GDP per Capita)       157 non-null    float64\n",
      " 7   Family                         157 non-null    float64\n",
      " 8   Health (Life Expectancy)       157 non-null    float64\n",
      " 9   Freedom                        157 non-null    float64\n",
      " 10  Trust (Government Corruption)  157 non-null    float64\n",
      " 11  Generosity                     157 non-null    float64\n",
      " 12  Dystopia Residual              157 non-null    float64\n",
      "dtypes: float64(10), int64(1), object(2)\n",
      "memory usage: 16.1+ KB\n"
     ]
    }
   ],
   "source": [
    "df_2016.info()"
   ]
  },
  {
   "cell_type": "code",
   "execution_count": 43,
   "id": "41e74f5f",
   "metadata": {},
   "outputs": [
    {
     "name": "stdout",
     "output_type": "stream",
     "text": [
      "<class 'pandas.core.frame.DataFrame'>\n",
      "RangeIndex: 155 entries, 0 to 154\n",
      "Data columns (total 12 columns):\n",
      " #   Column                         Non-Null Count  Dtype  \n",
      "---  ------                         --------------  -----  \n",
      " 0   Country                        155 non-null    object \n",
      " 1   Happiness.Rank                 155 non-null    int64  \n",
      " 2   Happiness.Score                155 non-null    float64\n",
      " 3   Whisker.high                   155 non-null    float64\n",
      " 4   Whisker.low                    155 non-null    float64\n",
      " 5   Economy..GDP.per.Capita.       155 non-null    float64\n",
      " 6   Family                         155 non-null    float64\n",
      " 7   Health..Life.Expectancy.       155 non-null    float64\n",
      " 8   Freedom                        155 non-null    float64\n",
      " 9   Generosity                     155 non-null    float64\n",
      " 10  Trust..Government.Corruption.  155 non-null    float64\n",
      " 11  Dystopia.Residual              155 non-null    float64\n",
      "dtypes: float64(10), int64(1), object(1)\n",
      "memory usage: 14.7+ KB\n"
     ]
    }
   ],
   "source": [
    "df_2017.info()"
   ]
  },
  {
   "cell_type": "code",
   "execution_count": 44,
   "id": "2af99a44",
   "metadata": {},
   "outputs": [
    {
     "name": "stdout",
     "output_type": "stream",
     "text": [
      "<class 'pandas.core.frame.DataFrame'>\n",
      "RangeIndex: 156 entries, 0 to 155\n",
      "Data columns (total 9 columns):\n",
      " #   Column                        Non-Null Count  Dtype  \n",
      "---  ------                        --------------  -----  \n",
      " 0   Overall rank                  156 non-null    int64  \n",
      " 1   Country or region             156 non-null    object \n",
      " 2   Score                         156 non-null    float64\n",
      " 3   GDP per capita                156 non-null    float64\n",
      " 4   Social support                156 non-null    float64\n",
      " 5   Healthy life expectancy       156 non-null    float64\n",
      " 6   Freedom to make life choices  156 non-null    float64\n",
      " 7   Generosity                    156 non-null    float64\n",
      " 8   Perceptions of corruption     155 non-null    float64\n",
      "dtypes: float64(7), int64(1), object(1)\n",
      "memory usage: 11.1+ KB\n"
     ]
    }
   ],
   "source": [
    "df_2018.info()"
   ]
  },
  {
   "cell_type": "code",
   "execution_count": 45,
   "id": "140934e6",
   "metadata": {},
   "outputs": [
    {
     "name": "stdout",
     "output_type": "stream",
     "text": [
      "<class 'pandas.core.frame.DataFrame'>\n",
      "RangeIndex: 156 entries, 0 to 155\n",
      "Data columns (total 9 columns):\n",
      " #   Column                        Non-Null Count  Dtype  \n",
      "---  ------                        --------------  -----  \n",
      " 0   Overall rank                  156 non-null    int64  \n",
      " 1   Country or region             156 non-null    object \n",
      " 2   Score                         156 non-null    float64\n",
      " 3   GDP per capita                156 non-null    float64\n",
      " 4   Social support                156 non-null    float64\n",
      " 5   Healthy life expectancy       156 non-null    float64\n",
      " 6   Freedom to make life choices  156 non-null    float64\n",
      " 7   Generosity                    156 non-null    float64\n",
      " 8   Perceptions of corruption     156 non-null    float64\n",
      "dtypes: float64(7), int64(1), object(1)\n",
      "memory usage: 11.1+ KB\n"
     ]
    }
   ],
   "source": [
    "df_2019.info()"
   ]
  },
  {
   "cell_type": "code",
   "execution_count": 40,
   "id": "68be5334-ae10-4abd-8097-3259fe5e72c8",
   "metadata": {},
   "outputs": [
    {
     "name": "stdout",
     "output_type": "stream",
     "text": [
      "<class 'pandas.core.frame.DataFrame'>\n",
      "RangeIndex: 158 entries, 0 to 157\n",
      "Data columns (total 12 columns):\n",
      " #   Column                         Non-Null Count  Dtype  \n",
      "---  ------                         --------------  -----  \n",
      " 0   Country                        158 non-null    object \n",
      " 1   Region                         158 non-null    object \n",
      " 2   Happiness Rank                 158 non-null    int64  \n",
      " 3   Happiness Score                158 non-null    float64\n",
      " 4   Standard Error                 158 non-null    float64\n",
      " 5   Economy (GDP per Capita)       158 non-null    float64\n",
      " 6   Family                         158 non-null    float64\n",
      " 7   Health (Life Expectancy)       158 non-null    float64\n",
      " 8   Freedom                        158 non-null    float64\n",
      " 9   Trust (Government Corruption)  158 non-null    float64\n",
      " 10  Generosity                     158 non-null    float64\n",
      " 11  Dystopia Residual              158 non-null    float64\n",
      "dtypes: float64(9), int64(1), object(2)\n",
      "memory usage: 14.9+ KB\n"
     ]
    }
   ],
   "source": [
    "# check columns types "
   ]
  },
  {
   "cell_type": "code",
   "execution_count": 33,
   "id": "2ee790ba-dcc0-45f1-b6f8-0133e913e149",
   "metadata": {},
   "outputs": [],
   "source": [
    "# everything is good, no need to change columns data types"
   ]
  },
  {
   "cell_type": "code",
   "execution_count": 37,
   "id": "c69b303a-5459-45f9-a28e-fcee45c21c05",
   "metadata": {},
   "outputs": [
    {
     "data": {
      "text/plain": [
       "Index(['Country', 'Happiness.Rank', 'Happiness.Score', 'Whisker.high',\n",
       "       'Whisker.low', 'Economy..GDP.per.Capita.', 'Family',\n",
       "       'Health..Life.Expectancy.', 'Freedom', 'Generosity',\n",
       "       'Trust..Government.Corruption.', 'Dystopia.Residual'],\n",
       "      dtype='object')"
      ]
     },
     "execution_count": 37,
     "metadata": {},
     "output_type": "execute_result"
    }
   ],
   "source": [
    "# check outliers "
   ]
  },
  {
   "cell_type": "markdown",
   "id": "4aca9d42-add6-45db-92cf-1f6dae5f277b",
   "metadata": {},
   "source": [
    "**What is an Outlier?** \n",
    "Outlier is an row/observation that appears far away and diverges from an overall pattern in a sample.\n",
    "\n",
    "**What are the types of Outliers?**\n",
    "1. Univariate: These outliers can be found when we look at distribution of a single variable\n",
    "2. Multivariate: are outliers in an n-dimensional space. In order to find them, you have to look at distributions in multi-dimensions. example (hight=100, weight=100) for a person\n",
    "\n",
    "**What causes Outliers?**\n",
    "Whenever we come across outliers, the ideal way to tackle them is to find out the reason of having these outliers. The method to deal with them would then depend on the reason of their occurrence.\n",
    "\n",
    "Let’s understand various types of outliers:\n",
    "\n",
    "1. Data Entry Errors:- Human errors such as errors caused during data collection, recording, or entry can cause outliers in data.\n",
    "2. Measurement Error: It is the most common source of outliers. This is caused when the measurement instrument used turns out to be faulty.\n",
    "3. Data Processing Error: Whenever we perform data mining, we extract data from multiple sources. It is possible that some manipulation or extraction errors may lead to outliers in the dataset.\n",
    "4. Sampling error: For instance, we have to measure the height of athletes. By mistake, we include a few basketball players in the sample. This inclusion is likely to cause outliers in the dataset.\n",
    "5. Natural Outlier: When an outlier is not artificial (due to error), it is a natural outlier. For instance: In my last assignment with one of the renowned insurance company, I noticed that the performance of top 50 financial advisors was far higher than rest of the population. Surprisingly, it was not due to any error. Hence, whenever we perform any data mining activity with advisors, we used to treat this segment separately.\n",
    "\n",
    "\n",
    "**What is the impact of Outliers on a dataset?**\n",
    "\n",
    "\n",
    "![image.png](https://www.analyticsvidhya.com/wp-content/uploads/2015/02/Outlier_31.png)\n",
    "\n",
    "\n",
    "\n",
    "**How to detect Outliers?**\n",
    "\n",
    "1. Most commonly used method to detect outliers is visualization (Univariate Graphical Analysis).\n",
    "\n",
    "We use 3 common visualization methods:\n",
    ">- Box-plot: A box plot is a method for graphically depicting groups of numerical data through their quartiles. The box extends from the Q1 to Q3 quartile values of the data, with a line at the median (Q2). The whiskers extend from the edges of the box to show the range of the data. Outlier points are those past the end of the whiskers. Box plots show robust measures of location and spread as well as providing information about symmetry and outliers.\n",
    ">\n",
    ">  \n",
    ">![image.png](https://miro.medium.com/v2/resize:fit:698/format:webp/1*VK5iHA2AB28HSZwWwUbNYg.png)\n",
    ">\n",
    ">\n",
    ">- Histogram\n",
    ">- Scatter Plot: A scatter plot is a mathematical diagram using Cartesian coordinates to display values for two variables for a set of data. The data are displayed as a collection of points, each having the value of one variable determining the position on the horizontal axis and the value of the other variable determining the position on the vertical axis. The points that are far from the population can be termed as an outlier.\n",
    ">\n",
    ">  \n",
    ">![image.png](https://miro.medium.com/v2/resize:fit:4800/format:webp/1*Ov6aH-8yIwNoUxtMFwgx4g.png)\n",
    ">\n",
    ">\n",
    "\n",
    "2. Using statistical method (Univariate Non-Graphical analysis):\n",
    ">- Any value, which is beyond the range of -1.5 x IQR to 1.5 x IQR\n",
    " \n",
    "![image.png](https://www.whatissixsigma.net/wp-content/uploads/2015/07/Box-Plot-Diagram-to-identify-Outliers-figure-1.png)\n",
    "\n",
    ">- Use capping methods. Any value which out of range of 5th and 95th percentile can be considered as outlier\n",
    ">- Data points, three or more standard deviation away from mean are considered outlier: The Z-score is the signed number of standard deviations by which the value of an observation or data point is above the mean value of what is being observed or measured. While calculating the Z-score we re-scale and center the data and look for data points that are too far from zero. These data points which are way too far from zero will be treated as the outliers. In most of the cases, a threshold of 3 or -3 is used i.e if the Z-score value is greater than or less than 3 or -3 respectively, that data point will be identified as outliers.\n",
    "> - Outlier detection is merely a special case of the examination of data for influential data points and it also depends on the business understanding\n"
   ]
  },
  {
   "cell_type": "code",
   "execution_count": 23,
   "id": "74ea6194-cc01-45d8-be38-c4543eb1714e",
   "metadata": {},
   "outputs": [],
   "source": [
    "# go to univariate graphical analysis\n",
    "# go to lesson : data visualisation 1 - chart type section\n",
    "# then go to univariate graphical analysis\n",
    "# detect outliers using graphs varbaly"
   ]
  },
  {
   "cell_type": "code",
   "execution_count": 24,
   "id": "48ecf77b-480c-4f64-9485-95be805bc357",
   "metadata": {},
   "outputs": [],
   "source": [
    "# go to lesson: statistics 1 then statistics 3\n",
    "# then go to univariate Non graphical analysis\n",
    "# detect outliers using numerical statistics "
   ]
  },
  {
   "cell_type": "code",
   "execution_count": null,
   "id": "ee200da8-62b0-492d-b118-f4d665a1fb16",
   "metadata": {},
   "outputs": [],
   "source": []
  },
  {
   "cell_type": "code",
   "execution_count": 25,
   "id": "4e66d611-6958-4860-8522-9ada7fce40b0",
   "metadata": {},
   "outputs": [],
   "source": [
    "# go to delete ouliers"
   ]
  },
  {
   "attachments": {},
   "cell_type": "markdown",
   "id": "4e886ec7-388c-414b-ada7-803c2fb1f2cb",
   "metadata": {},
   "source": [
    "## 2. Data Cleaning: \n",
    "\n",
    "Preliminary findings from data profiling can lead to cleaning the data by:\n",
    "- Handling missing values\n",
    "- Correcting errors.\n",
    "- Dealing with outliers.\n",
    "\n",
    "-------------------\n",
    "\n"
   ]
  },
  {
   "cell_type": "markdown",
   "id": "21876b48-f5ec-4970-85a9-0520d45d8841",
   "metadata": {},
   "source": [
    "### Handling missing values:"
   ]
  },
  {
   "cell_type": "markdown",
   "id": "c890d5a2-2a65-4090-9427-f89c0f011d3f",
   "metadata": {},
   "source": [
    "**Why my data has missing values?**\n",
    "They may occur at two stages:\n",
    "1. Data Extraction: It is possible that there are problems with extraction process. Errors at data extraction stage are typically easy to find and can be corrected easily as well.\n",
    "2. Data collection: These errors occur at time of data collection and are harder to correct.\n",
    "\n",
    "**Why do we need to handle the missing data?**\n",
    "To avoid:\n",
    "- Bias the conclusions.\n",
    "- Leading the business to make wrong decisions.\n",
    "\n",
    "**Which are the methods to treat missing values ?**\n",
    "1. Deletion: we delete rows where any of the variable is missing. Simplicity is one of the major advantage of this method, but this method reduces the power of model because it reduces the sample size.\n",
    "\n",
    "2. Imputation: is a method to fill in the missing values with estimated ones. This imputation is one of the most frequently used methods.\n",
    "\n",
    "    2.1. Mean/ Mode/ Median Imputation: It consists of replacing the missing data for a given attribute by the mean or median (quantitative attribute) or mode (qualitative attribute) of all known values of that variable.\n",
    "    > It can be of two types:\n",
    "    > - Generalized Imputation: In this case, we calculate the mean or median for all non missing values of that variable then replace missing value with mean or median.\n",
    "    > - Similar case Imputation: In this case, we calculate average for each group individually of non missing values then replace the missing value based on the group.\n",
    "\n",
    "    2.2. Constant Value\n",
    "   \n",
    "    2.3. Forward Filling\n",
    "   \n",
    "    2.4. Backward Filling\n",
    "\n",
    "6. Prediction Model:  Prediction model is one of the sophisticated method for handling missing data. Here, we create a predictive model to estimate values that will substitute the missing data.  In this case, we divide our data set into two sets: One set with no missing values for the variable and another one with missing values. First data set become training data set of the model while second data set with missing values is test data set and variable with missing values is treated as target variable. Next, we create a model to predict target variable based on other attributes of the training data set and populate missing values of test data set.\n",
    "\n",
    "> There are 2 drawbacks for this approach:\n",
    "> - The model estimated values are usually more well-behaved than the true values\n",
    "> - If there are no relationships with attributes in the data set and the attribute with missing values, then the model will not be precise for estimating missing values.\n",
    "\n",
    "9. KNN Imputation: In this method of imputation, the missing values of an attribute are imputed using the given number of attributes that are most similar to the attribute whose values are missing. The similarity of two attributes is determined using a distance function. It is also known to have certain advantage & disadvantages.\n",
    "\n",
    "   > **Advantages:**\n",
    "   > - k-nearest neighbour can predict both qualitative & quantitative attributes\n",
    "   > - Creation of predictive model for each attribute with missing data is not required\n",
    "   > - Attributes with multiple missing values can be easily treated\n",
    "   > - Correlation structure of the data is taken into consideration\n",
    "\n",
    "   > **Disadvantage:**\n",
    "   > - KNN algorithm is very time-consuming in analyzing large database. It searches through all the dataset looking for the most similar instances.\n",
    "   > - Choice of k-value is very critical. Higher value of k would include attributes which are significantly different from what we need whereas lower value of k implies missing out of significant attributes.\n",
    "\n",
    "--------------------\n"
   ]
  },
  {
   "cell_type": "code",
   "execution_count": null,
   "id": "57e741fb-71c1-46ad-a526-d8f0b1564dc3",
   "metadata": {},
   "outputs": [],
   "source": []
  },
  {
   "cell_type": "code",
   "execution_count": 80,
   "id": "01287962-8077-4c01-8d1d-5f8aed6cb37a",
   "metadata": {},
   "outputs": [],
   "source": [
    "# go back to 6th dimention --> Completeness"
   ]
  },
  {
   "cell_type": "markdown",
   "id": "f7cee10f-0af8-44e5-b595-8e965294daad",
   "metadata": {},
   "source": [
    "### Correcting errors\n",
    "\n",
    "-------------------"
   ]
  },
  {
   "cell_type": "code",
   "execution_count": null,
   "id": "06273b88-a169-42e8-81f5-5d71cb3f9c21",
   "metadata": {},
   "outputs": [],
   "source": []
  },
  {
   "cell_type": "code",
   "execution_count": null,
   "id": "f1d95da5-a3ba-473a-8243-aa177cadae20",
   "metadata": {},
   "outputs": [],
   "source": [
    "# go back to 7th dimension Accuracy "
   ]
  },
  {
   "cell_type": "markdown",
   "id": "5ecc7dbb-6867-44cf-8f99-1b969a80be40",
   "metadata": {},
   "source": [
    "### Dealing with outliers:"
   ]
  },
  {
   "attachments": {},
   "cell_type": "markdown",
   "id": "88347887-4bdf-48af-9486-cb8fe80c97af",
   "metadata": {},
   "source": [
    "**How to remove Outliers?**\n",
    "Most of the ways to deal with outliers are similar to the methods of missing values like deleting rows, transforming them, binning them, treat them as a separate group, imputing values and other statistical methods. Here, we will discuss the common techniques used to deal with outliers:\n",
    "\n",
    "1. Deleting rows: We delete outlier values if it is due to data entry error, data processing error or outlier rows are very small in numbers. We can also use trimming at both ends to remove outliers.\n",
    "\n",
    "2. Imputing: Like imputation of missing values, we can also impute outliers. We can use mean, median, mode imputation methods. Before imputing values, we should analyse if it is natural outlier or artificial. If it is artificial, we can go with imputing values. We can also use statistical model to predict values of outlier rows and after that we can impute it with predicted values.\n",
    "\n",
    "3. Treat separately: If there are significant number of outliers, we should treat them separately in the statistical model. One of the approach is to treat both groups as two different groups and build individual model for both groups and then combine the output.\n"
   ]
  },
  {
   "cell_type": "code",
   "execution_count": null,
   "id": "25a585f0-2b9c-42fa-bf21-cacc6aa3be3f",
   "metadata": {},
   "outputs": [],
   "source": []
  },
  {
   "cell_type": "markdown",
   "id": "98548b66-e309-4eb8-a5dc-65fe0abbf1e8",
   "metadata": {},
   "source": [
    "## 3. Univariate Analysis: \n",
    "\n",
    "This involves examining single variables to understand their characteristics (distribution, central tendency, dispersion, and shape).\n",
    "\n",
    "We calculate **numerical values** about the data that tells us about the distribution of the data. We also **draw graphs** showing visually how the data is distributed. **To answer the following questions about Features/characteristics of Data:**\n",
    "- Where is the center of the data? (location)\n",
    "- How much does the data vary? (scale)\n",
    "- What is the shape of the data? (shape)\n",
    "\n",
    "**The benefits of this analysis:**\n",
    "Statistics summary gives a high-level idea to identify whether the data has any outliers, data entry error, distribution of data such as the data is normally distributed or left/right skewed\n",
    "\n",
    "**In this step, we will explore variables one by one using following approaches:**"
   ]
  },
  {
   "cell_type": "markdown",
   "id": "d6718111-7ac2-4fff-9851-654655b62e0b",
   "metadata": {},
   "source": [
    "### 1. Univariate Graphical Analysis:\n",
    "Method to perform uni-variate analysis will depend on whether the variable type is categorical or numerical."
   ]
  },
  {
   "cell_type": "code",
   "execution_count": null,
   "id": "db79d803-b75c-4686-a623-e8420321a90f",
   "metadata": {},
   "outputs": [],
   "source": [
    "df_2015.head(2)"
   ]
  },
  {
   "cell_type": "code",
   "execution_count": 46,
   "id": "c81f5b73",
   "metadata": {},
   "outputs": [
    {
     "data": {
      "text/plain": [
       "Country                           object\n",
       "Region                            object\n",
       "Happiness Rank                     int64\n",
       "Happiness Score                  float64\n",
       "Standard Error                   float64\n",
       "Economy (GDP per Capita)         float64\n",
       "Family                           float64\n",
       "Health (Life Expectancy)         float64\n",
       "Freedom                          float64\n",
       "Trust (Government Corruption)    float64\n",
       "Generosity                       float64\n",
       "Dystopia Residual                float64\n",
       "dtype: object"
      ]
     },
     "execution_count": 46,
     "metadata": {},
     "output_type": "execute_result"
    }
   ],
   "source": [
    "df_2015.dtypes"
   ]
  },
  {
   "cell_type": "code",
   "execution_count": 47,
   "id": "526cb61b",
   "metadata": {},
   "outputs": [
    {
     "data": {
      "text/html": [
       "<div>\n",
       "<style scoped>\n",
       "    .dataframe tbody tr th:only-of-type {\n",
       "        vertical-align: middle;\n",
       "    }\n",
       "\n",
       "    .dataframe tbody tr th {\n",
       "        vertical-align: top;\n",
       "    }\n",
       "\n",
       "    .dataframe thead th {\n",
       "        text-align: right;\n",
       "    }\n",
       "</style>\n",
       "<table border=\"1\" class=\"dataframe\">\n",
       "  <thead>\n",
       "    <tr style=\"text-align: right;\">\n",
       "      <th></th>\n",
       "      <th>Country</th>\n",
       "      <th>Region</th>\n",
       "      <th>Happiness Rank</th>\n",
       "      <th>Happiness Score</th>\n",
       "      <th>Lower Confidence Interval</th>\n",
       "      <th>Upper Confidence Interval</th>\n",
       "      <th>Economy (GDP per Capita)</th>\n",
       "      <th>Family</th>\n",
       "      <th>Health (Life Expectancy)</th>\n",
       "      <th>Freedom</th>\n",
       "      <th>Trust (Government Corruption)</th>\n",
       "      <th>Generosity</th>\n",
       "      <th>Dystopia Residual</th>\n",
       "    </tr>\n",
       "  </thead>\n",
       "  <tbody>\n",
       "    <tr>\n",
       "      <th>0</th>\n",
       "      <td>Denmark</td>\n",
       "      <td>Western Europe</td>\n",
       "      <td>1</td>\n",
       "      <td>7.526</td>\n",
       "      <td>7.460</td>\n",
       "      <td>7.592</td>\n",
       "      <td>1.44178</td>\n",
       "      <td>1.16374</td>\n",
       "      <td>0.79504</td>\n",
       "      <td>0.57941</td>\n",
       "      <td>0.44453</td>\n",
       "      <td>0.36171</td>\n",
       "      <td>2.73939</td>\n",
       "    </tr>\n",
       "    <tr>\n",
       "      <th>1</th>\n",
       "      <td>Switzerland</td>\n",
       "      <td>Western Europe</td>\n",
       "      <td>2</td>\n",
       "      <td>7.509</td>\n",
       "      <td>7.428</td>\n",
       "      <td>7.590</td>\n",
       "      <td>1.52733</td>\n",
       "      <td>1.14524</td>\n",
       "      <td>0.86303</td>\n",
       "      <td>0.58557</td>\n",
       "      <td>0.41203</td>\n",
       "      <td>0.28083</td>\n",
       "      <td>2.69463</td>\n",
       "    </tr>\n",
       "  </tbody>\n",
       "</table>\n",
       "</div>"
      ],
      "text/plain": [
       "       Country          Region  Happiness Rank  Happiness Score  \\\n",
       "0      Denmark  Western Europe               1            7.526   \n",
       "1  Switzerland  Western Europe               2            7.509   \n",
       "\n",
       "   Lower Confidence Interval  Upper Confidence Interval  \\\n",
       "0                      7.460                      7.592   \n",
       "1                      7.428                      7.590   \n",
       "\n",
       "   Economy (GDP per Capita)   Family  Health (Life Expectancy)  Freedom  \\\n",
       "0                   1.44178  1.16374                   0.79504  0.57941   \n",
       "1                   1.52733  1.14524                   0.86303  0.58557   \n",
       "\n",
       "   Trust (Government Corruption)  Generosity  Dystopia Residual  \n",
       "0                        0.44453     0.36171            2.73939  \n",
       "1                        0.41203     0.28083            2.69463  "
      ]
     },
     "execution_count": 47,
     "metadata": {},
     "output_type": "execute_result"
    }
   ],
   "source": [
    "df_2016.head(2)"
   ]
  },
  {
   "cell_type": "code",
   "execution_count": 48,
   "id": "8b41ddd5",
   "metadata": {},
   "outputs": [
    {
     "data": {
      "text/plain": [
       "Country                           object\n",
       "Region                            object\n",
       "Happiness Rank                     int64\n",
       "Happiness Score                  float64\n",
       "Lower Confidence Interval        float64\n",
       "Upper Confidence Interval        float64\n",
       "Economy (GDP per Capita)         float64\n",
       "Family                           float64\n",
       "Health (Life Expectancy)         float64\n",
       "Freedom                          float64\n",
       "Trust (Government Corruption)    float64\n",
       "Generosity                       float64\n",
       "Dystopia Residual                float64\n",
       "dtype: object"
      ]
     },
     "execution_count": 48,
     "metadata": {},
     "output_type": "execute_result"
    }
   ],
   "source": [
    "df_2016.dtypes"
   ]
  },
  {
   "cell_type": "code",
   "execution_count": 49,
   "id": "12da3002",
   "metadata": {},
   "outputs": [
    {
     "data": {
      "text/html": [
       "<div>\n",
       "<style scoped>\n",
       "    .dataframe tbody tr th:only-of-type {\n",
       "        vertical-align: middle;\n",
       "    }\n",
       "\n",
       "    .dataframe tbody tr th {\n",
       "        vertical-align: top;\n",
       "    }\n",
       "\n",
       "    .dataframe thead th {\n",
       "        text-align: right;\n",
       "    }\n",
       "</style>\n",
       "<table border=\"1\" class=\"dataframe\">\n",
       "  <thead>\n",
       "    <tr style=\"text-align: right;\">\n",
       "      <th></th>\n",
       "      <th>Country</th>\n",
       "      <th>Happiness.Rank</th>\n",
       "      <th>Happiness.Score</th>\n",
       "      <th>Whisker.high</th>\n",
       "      <th>Whisker.low</th>\n",
       "      <th>Economy..GDP.per.Capita.</th>\n",
       "      <th>Family</th>\n",
       "      <th>Health..Life.Expectancy.</th>\n",
       "      <th>Freedom</th>\n",
       "      <th>Generosity</th>\n",
       "      <th>Trust..Government.Corruption.</th>\n",
       "      <th>Dystopia.Residual</th>\n",
       "    </tr>\n",
       "  </thead>\n",
       "  <tbody>\n",
       "    <tr>\n",
       "      <th>0</th>\n",
       "      <td>Norway</td>\n",
       "      <td>1</td>\n",
       "      <td>7.537</td>\n",
       "      <td>7.594445</td>\n",
       "      <td>7.479556</td>\n",
       "      <td>1.616463</td>\n",
       "      <td>1.533524</td>\n",
       "      <td>0.796667</td>\n",
       "      <td>0.635423</td>\n",
       "      <td>0.362012</td>\n",
       "      <td>0.315964</td>\n",
       "      <td>2.277027</td>\n",
       "    </tr>\n",
       "    <tr>\n",
       "      <th>1</th>\n",
       "      <td>Denmark</td>\n",
       "      <td>2</td>\n",
       "      <td>7.522</td>\n",
       "      <td>7.581728</td>\n",
       "      <td>7.462272</td>\n",
       "      <td>1.482383</td>\n",
       "      <td>1.551122</td>\n",
       "      <td>0.792566</td>\n",
       "      <td>0.626007</td>\n",
       "      <td>0.355280</td>\n",
       "      <td>0.400770</td>\n",
       "      <td>2.313707</td>\n",
       "    </tr>\n",
       "  </tbody>\n",
       "</table>\n",
       "</div>"
      ],
      "text/plain": [
       "   Country  Happiness.Rank  Happiness.Score  Whisker.high  Whisker.low  \\\n",
       "0   Norway               1            7.537      7.594445     7.479556   \n",
       "1  Denmark               2            7.522      7.581728     7.462272   \n",
       "\n",
       "   Economy..GDP.per.Capita.    Family  Health..Life.Expectancy.   Freedom  \\\n",
       "0                  1.616463  1.533524                  0.796667  0.635423   \n",
       "1                  1.482383  1.551122                  0.792566  0.626007   \n",
       "\n",
       "   Generosity  Trust..Government.Corruption.  Dystopia.Residual  \n",
       "0    0.362012                       0.315964           2.277027  \n",
       "1    0.355280                       0.400770           2.313707  "
      ]
     },
     "execution_count": 49,
     "metadata": {},
     "output_type": "execute_result"
    }
   ],
   "source": [
    "df_2017.head(2)"
   ]
  },
  {
   "cell_type": "code",
   "execution_count": 50,
   "id": "7dcbf066",
   "metadata": {},
   "outputs": [
    {
     "data": {
      "text/plain": [
       "Country                           object\n",
       "Happiness.Rank                     int64\n",
       "Happiness.Score                  float64\n",
       "Whisker.high                     float64\n",
       "Whisker.low                      float64\n",
       "Economy..GDP.per.Capita.         float64\n",
       "Family                           float64\n",
       "Health..Life.Expectancy.         float64\n",
       "Freedom                          float64\n",
       "Generosity                       float64\n",
       "Trust..Government.Corruption.    float64\n",
       "Dystopia.Residual                float64\n",
       "dtype: object"
      ]
     },
     "execution_count": 50,
     "metadata": {},
     "output_type": "execute_result"
    }
   ],
   "source": [
    "df_2017.dtypes"
   ]
  },
  {
   "cell_type": "code",
   "execution_count": null,
   "id": "9be3dbbe",
   "metadata": {},
   "outputs": [],
   "source": []
  },
  {
   "cell_type": "markdown",
   "id": "0d57c4b9-9bb3-494d-85dd-b8d39afda139",
   "metadata": {},
   "source": [
    "#### I. Categorical Variables:\n",
    "\n",
    "we’ll use frequency table to understand distribution of each category\n",
    "- Bar Chart (Ordinal) - Orderd\n",
    "- Pie Chart (Nominal) - non Orderd"
   ]
  },
  {
   "cell_type": "code",
   "execution_count": 53,
   "id": "72ece4b7-5508-403a-8fb0-f519fc74272a",
   "metadata": {},
   "outputs": [
    {
     "data": {
      "text/plain": [
       "Happiness Rank\n",
       "82     2\n",
       "1      1\n",
       "110    1\n",
       "103    1\n",
       "104    1\n",
       "      ..\n",
       "54     1\n",
       "55     1\n",
       "56     1\n",
       "57     1\n",
       "158    1\n",
       "Name: count, Length: 157, dtype: int64"
      ]
     },
     "execution_count": 53,
     "metadata": {},
     "output_type": "execute_result"
    }
   ],
   "source": [
    "df_2015[\"Happiness Rank\"].value_counts()"
   ]
  },
  {
   "cell_type": "code",
   "execution_count": 62,
   "id": "3a5da879",
   "metadata": {},
   "outputs": [
    {
     "name": "stdout",
     "output_type": "stream",
     "text": [
      "Frequency Table (Ordinal - Happiness Rank):\n",
      "Happiness Rank\n",
      "1      1\n",
      "2      1\n",
      "3      1\n",
      "4      1\n",
      "5      1\n",
      "      ..\n",
      "154    1\n",
      "155    1\n",
      "156    1\n",
      "157    1\n",
      "158    1\n",
      "Name: count, Length: 157, dtype: int64\n",
      "\n",
      "Frequency Table (Nominal - Region):\n",
      "Region\n",
      "Sub-Saharan Africa                 40\n",
      "Central and Eastern Europe         29\n",
      "Latin America and Caribbean        22\n",
      "Western Europe                     21\n",
      "Middle East and Northern Africa    20\n",
      "Southeastern Asia                   9\n",
      "Southern Asia                       7\n",
      "Eastern Asia                        6\n",
      "North America                       2\n",
      "Australia and New Zealand           2\n",
      "Name: count, dtype: int64\n",
      "\n"
     ]
    },
    {
     "data": {
      "image/png": "[encoded data removed]",
      "text/plain": [
       "<Figure size 800x600 with 1 Axes>"
      ]
     },
     "metadata": {},
     "output_type": "display_data"
    },
    {
     "data": {
      "image/png": "[encoded data removed]",
      "text/plain": [
       "<Figure size 800x600 with 1 Axes>"
      ]
     },
     "metadata": {},
     "output_type": "display_data"
    }
   ],
   "source": [
    "ordinal_freq = df_2015['Happiness Rank'].value_counts().sort_index()\n",
    "print(f\"Frequency Table (Ordinal - Happiness Rank):\\n{ordinal_freq}\\n\")\n",
    "\n",
    "# Frequency table for nominal data (Region)\n",
    "nominal_freq = df_2015['Region'].value_counts()\n",
    "print(f\"Frequency Table (Nominal - Region):\\n{nominal_freq}\\n\")\n",
    "\n",
    "### Step 2: Bar Chart for Ordinal Data\n",
    "\n",
    "# Bar chart for ordinal data (Happiness Rank)\n",
    "plt.figure(figsize=(8,6))\n",
    "ordinal_freq.plot(kind='bar', color='skyblue')\n",
    "plt.title(\"Bar Chart for Happiness Rank (Ordinal Data)\")\n",
    "plt.xlabel(\"Happiness Rank\")\n",
    "plt.ylabel(\"Frequency\")\n",
    "plt.show()\n",
    "\n",
    "### Step 3: Pie Chart for Nominal Data\n",
    "\n",
    "# Pie chart for nominal data (Region)\n",
    "plt.figure(figsize=(8,6))\n",
    "plt.pie(nominal_freq, labels=nominal_freq.index, autopct='%1.1f%%', startangle=140, colors=['lightcoral', 'lightskyblue'])\n",
    "plt.title(\"Pie Chart for Region (Nominal Data)\")\n",
    "plt.show()"
   ]
  },
  {
   "cell_type": "markdown",
   "id": "d2641f0d-80f2-493b-99b7-15476379a1e2",
   "metadata": {},
   "source": [
    "#### II. Numerical Variables:\n",
    "\n",
    "we need to understand the central tendency and spread of the variable (Descriptive Analysis) using:\n",
    "   - Box plot\n",
    "   - Histogram"
   ]
  },
  {
   "cell_type": "code",
   "execution_count": 61,
   "id": "5be16f08-a072-4a02-a3ee-6f9d57786fb4",
   "metadata": {},
   "outputs": [
    {
     "data": {
      "image/png": "[encoded data removed]",
      "text/plain": [
       "<Figure size 1000x600 with 1 Axes>"
      ]
     },
     "metadata": {},
     "output_type": "display_data"
    },
    {
     "data": {
      "image/png": "[encoded data removed]",
      "text/plain": [
       "<Figure size 800x600 with 1 Axes>"
      ]
     },
     "metadata": {},
     "output_type": "display_data"
    },
    {
     "data": {
      "image/png": "[encoded data removed]",
      "text/plain": [
       "<Figure size 1200x800 with 4 Axes>"
      ]
     },
     "metadata": {},
     "output_type": "display_data"
    }
   ],
   "source": [
    "plt.figure(figsize=(10,6))\n",
    "df_2016[['Happiness Score', 'Economy (GDP per Capita)', 'Family', 'Health (Life Expectancy)', \n",
    "    'Freedom', 'Trust (Government Corruption)', 'Generosity']].boxplot()\n",
    "plt.title('Box Plot for Happiness Factors')\n",
    "plt.xticks(rotation=45)\n",
    "plt.ylabel('Values')\n",
    "plt.show()\n",
    "\n",
    "### Step 2: Histogram\n",
    "\n",
    "# Histogram for a single column (e.g., Happiness Score)\n",
    "plt.figure(figsize=(8,6))\n",
    "df_2016['Happiness Score'].plot(kind='hist', bins=10, color='skyblue', edgecolor='black')\n",
    "plt.title('Histogram for Happiness Score')\n",
    "plt.xlabel('Happiness Score')\n",
    "plt.ylabel('Frequency')\n",
    "plt.show()\n",
    "\n",
    "# Histogram for multiple columns (e.g., Happiness Score, Economy, Family)\n",
    "df_2016[['Happiness Score', 'Economy (GDP per Capita)', 'Family']].hist(bins=10, figsize=(12,8), color='lightgreen', edgecolor='black')\n",
    "plt.suptitle('Histograms for Happiness Score, Economy, and Family')\n",
    "plt.show()"
   ]
  },
  {
   "cell_type": "markdown",
   "id": "d66677d3-44ad-414f-9b39-f9c1995ad043",
   "metadata": {},
   "source": [
    "### 2. Univariate Non-Graphical analysis: \n",
    "\n",
    "- Where is the center of the data? (location) --> **Measures of central tendency**\n",
    "- How much does the data vary? (scale) --> **Measure of variability**\n",
    "- What is the shape of the data? (shape) --> **Measures of variation combined with an average (measure of center) gives a good picture of the distribution of the data.**"
   ]
  },
  {
   "cell_type": "code",
   "execution_count": null,
   "id": "f1058d84-e61e-4f5b-b66a-29931e77821b",
   "metadata": {},
   "outputs": [],
   "source": []
  },
  {
   "cell_type": "markdown",
   "id": "f09bb809-0edd-432b-bf23-abd0840b3e16",
   "metadata": {},
   "source": [
    "## 4. Bivariate/Multivariate Analysis:\n",
    "\n",
    "Here, you look at the relationships between two or more variables. This can involve looking for correlations, patterns, and trends that suggest a relationship or an association.\n",
    "\n",
    "We can perform bi-variate analysis for any combination of categorical and numerical variables. The combination can be:\n",
    "| bi-variate variables   | Plot type |\n",
    "| ------------- | ------------- |\n",
    "| Categorical & Categorical| Stacked Bar Chart |\n",
    "| Categorical & numerical  | scatter plot, histogram, box plot|\n",
    "| numerical  & numerical  | Scatter plot, line chart| \n",
    "\n",
    "\n",
    "Multivariate Analysis:\n",
    "- Heat map\n",
    "- Bar Chart\n",
    "- Scatter Chart\n",
    "- Line Chart"
   ]
  },
  {
   "cell_type": "markdown",
   "id": "838f2864-ce9e-4f15-99c8-052d053154a7",
   "metadata": {},
   "source": [
    "**Categorical & Categorical --> (Stacked Column Chart)**"
   ]
  },
  {
   "cell_type": "code",
   "execution_count": null,
   "id": "73f9f2ac-8477-49ea-9c68-4fe44d4395b6",
   "metadata": {},
   "outputs": [],
   "source": []
  },
  {
   "cell_type": "markdown",
   "id": "730e088f-fe13-40da-8fbb-686f5135fa4d",
   "metadata": {},
   "source": [
    "**Categorical & numerical --> (scatter plot, histogram, box plot)**"
   ]
  },
  {
   "cell_type": "code",
   "execution_count": null,
   "id": "3590e345-2051-4215-91ac-07d196b510ef",
   "metadata": {},
   "outputs": [],
   "source": []
  },
  {
   "cell_type": "markdown",
   "id": "20aed48d-b78e-46da-963f-e7f15e2f4dc7",
   "metadata": {},
   "source": [
    "**numerical & numerical --> (Scatter plot, line chart)**"
   ]
  },
  {
   "cell_type": "code",
   "execution_count": null,
   "id": "41023177-01cb-4f39-a750-12be71b13bda",
   "metadata": {},
   "outputs": [],
   "source": []
  },
  {
   "cell_type": "markdown",
   "id": "efb43b30-b1f0-48a4-a19c-195810cc8a0f",
   "metadata": {},
   "source": [
    "We could also use a correlation matrix to get more specific information about the relationship between these two variables."
   ]
  },
  {
   "cell_type": "code",
   "execution_count": null,
   "id": "8406f58f-b825-4a15-8f6e-c68ca66bd483",
   "metadata": {},
   "outputs": [],
   "source": []
  }
 ],
 "metadata": {
  "kernelspec": {
   "display_name": "base",
   "language": "python",
   "name": "python3"
  },
  "language_info": {
   "codemirror_mode": {
    "name": "ipython",
    "version": 3
   },
   "file_extension": ".py",
   "mimetype": "text/x-python",
   "name": "python",
   "nbconvert_exporter": "python",
   "pygments_lexer": "ipython3",
   "version": "3.12.4"
  }
 },
 "nbformat": 4,
 "nbformat_minor": 5
}
